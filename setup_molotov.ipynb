{
 "cells": [
  {
   "cell_type": "markdown",
   "id": "0a9f4882",
   "metadata": {
    "id": "0a9f4882"
   },
   "source": [
    "# Example: Salt tectonics with variable thermal diffusivity\n",
    "\n",
    "NÃO ESQUECER DE MUDAR O NOME DO CENARIO!"
   ]
  },
  {
   "cell_type": "markdown",
   "id": "df7a4057",
   "metadata": {
    "id": "df7a4057"
   },
   "source": [
    "## Generate input files"
   ]
  },
  {
   "cell_type": "code",
   "execution_count": 1,
   "id": "0778b853",
   "metadata": {
    "id": "0778b853"
   },
   "outputs": [],
   "source": [
    "import matplotlib.pyplot as plt\n",
    "from datetime import datetime\n",
    "import os\n",
    "import pandas as pd\n",
    "import numpy as np\n",
    "\n",
    "basin_above = False              #Moho fixa e bacia em cima\n",
    "crust_thick_cte = True         #Espessura da crosta constante -> desligar se for por a bacia em cima\n",
    "visc_basin_cte = False   #Viscosidade dos sedimentos na bacia constante\n",
    "kappa_cte = False        #Kappa constante para o sedimento\n",
    "kappa_cr_cte = False #kappa de todas as camadas abaixo da crosta são cte"
   ]
  },
  {
   "cell_type": "code",
   "execution_count": 25,
   "id": "33a84d88-1750-4444-af1e-81be093b24cf",
   "metadata": {},
   "outputs": [],
   "source": [
    "msnow = str(datetime.now())[-6:-1] #microsecs\n",
    "tempdir = f'temp_{msnow}'\n",
    "os.mkdir(tempdir)\n",
    "os.chdir(tempdir)"
   ]
  },
  {
   "cell_type": "markdown",
   "id": "4e038518",
   "metadata": {
    "id": "4e038518"
   },
   "source": [
    "### Shape of the model"
   ]
  },
  {
   "cell_type": "code",
   "execution_count": 26,
   "id": "664203b8",
   "metadata": {
    "id": "664203b8"
   },
   "outputs": [],
   "source": [
    "# Horizontal and vertical extent of the model in meters:\n",
    "Lx, Lz = 1200.0e3, 300.0e3\n",
    "\n",
    "# Number of points in horizontal and vertical direction:\n",
    "Nx, Nz = 1201, 301 #1201, 601      #grid of 500m"
   ]
  },
  {
   "cell_type": "code",
   "execution_count": 27,
   "id": "e275573f",
   "metadata": {
    "id": "e275573f"
   },
   "outputs": [],
   "source": [
    "x = np.linspace(0, Lx, Nx)\n",
    "z = np.linspace(Lz, 0, Nz)\n",
    "\n",
    "X, Z = np.meshgrid(x, z)"
   ]
  },
  {
   "cell_type": "markdown",
   "id": "50fe8e32",
   "metadata": {
    "id": "50fe8e32"
   },
   "source": [
    "### Define the thickness of the layers\n",
    "\n",
    "They are in meters."
   ]
  },
  {
   "cell_type": "code",
   "execution_count": 21,
   "id": "2b766aef-39f9-473c-aa59-8314c2e109d3",
   "metadata": {
    "colab": {
     "base_uri": "https://localhost:8080/"
    },
    "executionInfo": {
     "elapsed": 415,
     "status": "ok",
     "timestamp": 1732647576980,
     "user": {
      "displayName": "João Paulo de Souza Bueno",
      "userId": "07483061909957032656"
     },
     "user_tz": 180
    },
    "id": "c656f622",
    "outputId": "3c6cbc53-3aa8-49a5-e9be-ca3726264039"
   },
   "outputs": [
    {
     "name": "stdout",
     "output_type": "stream",
     "text": [
      "Crust: 39000.0 m\n",
      "Basin: 1000.0 m\n"
     ]
    }
   ],
   "source": [
    "#### Sticky air layer:\n",
    "t_sa = 40.0e3\n",
    "\n",
    "# sediments:\n",
    "t_sed = 1.0e3\n",
    "\n",
    "# salt:\n",
    "t_salt = 0.0e3\n",
    "\n",
    "# total crust:\n",
    "t_crust = 40.0e3\n",
    "\n",
    "# Lower crust:\n",
    "t_lower_crust = t_crust/2\n",
    "\n",
    "# Upper crust:\n",
    "t_upper_crust = t_crust/2\n",
    "\n",
    "# Lithosphere:\n",
    "t_litho = 130.0e3\n",
    "\n",
    "if basin_above==True:\n",
    "    t_sa = t_sa-t_sed\n",
    "\n",
    "#para manter a base da crosta na mesma profundidade\n",
    "if crust_thick_cte==True:\n",
    "  t_lower_crust = (t_crust-t_salt-t_sed)/2\n",
    "  t_upper_crust = (t_crust-t_salt-t_sed)/2\n",
    "\n",
    "elif basin_above==True:\n",
    "  t_lower_crust = (t_crust)/2\n",
    "  t_upper_crust = (t_crust)/2\n",
    "  t_sa = t_sa - t_sed\n",
    "\n",
    "#para colocar a weak seed no sedimento só se ele for mais espesso que a célula\n",
    "insert_sed_seed=True if t_sed > 500 else False\n",
    "\n",
    "\n",
    "#Configurando a seed na rocha\n",
    "seed_depth = 13.0e3     #m - profundidade da seed\n",
    "thickness_seed = 6.0e3  #m - espessura da camada seed\n",
    "x_seed = Lx//3          #m - posição horizontal da seed\n",
    "n_seed = 2              #m - numero de seed em x\n",
    "\n",
    "lambda_sed = 100.0e3\n",
    "A_sed = 500.0 if t_salt > 0 else 0\n",
    "\n",
    "\n",
    "seeds_coords = [[x_seed],[seed_depth+t_lower_crust+t_upper_crust+t_sa]]\n",
    "\n",
    "#Configurando a seed na camada sedimentar\n",
    "if insert_sed_seed==True:\n",
    "  sed_seed_depth = t_sed/2  #m - profundidade da seed\n",
    "  sed_thickness_seed = 0.750e3  #m - espessura da camada seed\n",
    "  sed_x_seed = Lx//3          #m - posição horizontal da seed\n",
    "  sed_n_seed = 4              #m - numero de seed em x\n",
    "\n",
    "  sed_seed_depth = sed_seed_depth-500 if t_sed/1e3 % 2 == 0 else sed_seed_depth #pra não sobrepor com a camada sedimentar de 1 km\n",
    "  seeds_coords[0].append(sed_x_seed)\n",
    "  seeds_coords[1].append(sed_seed_depth+t_sa)\n",
    "\n",
    "print(f'Crust: {t_lower_crust+t_upper_crust} m')\n",
    "print(f'Basin: {t_salt+t_sed} m')\n"
   ]
  },
  {
   "cell_type": "markdown",
   "id": "d1cb99eb",
   "metadata": {
    "id": "d1cb99eb"
   },
   "source": [
    "### Create the interfaces (bottom first)"
   ]
  },
  {
   "cell_type": "code",
   "execution_count": 22,
   "id": "e95c2ab5",
   "metadata": {
    "id": "e95c2ab5"
   },
   "outputs": [],
   "source": [
    "if basin_above==False:\n",
    "    interfaces = {\n",
    "        \"litho\": np.ones(Nx) * (t_litho + t_sa),\n",
    "        \"seed_base\"   : np.ones(Nx)*(seed_depth+t_lower_crust+t_upper_crust+t_sa),\n",
    "        \"seed_top\"    : np.ones(Nx)*(seed_depth+t_lower_crust+t_upper_crust+t_sa),\n",
    "        \"lower_crust\": np.ones(Nx) * (t_lower_crust + t_upper_crust + t_salt + t_sed + t_sa),\n",
    "        \"upper_crust\": np.ones(Nx) * (t_upper_crust + t_salt + t_sed + t_sa),\n",
    "      }\n",
    "\n",
    "else:\n",
    "    interfaces = {\n",
    "    \"litho\": np.ones(Nx) * (t_litho + t_sa),\n",
    "    \"seed_base\"   : np.ones(Nx)*(seed_depth+t_lower_crust+t_upper_crust+t_sa),\n",
    "    \"seed_top\"    : np.ones(Nx)*(seed_depth+t_lower_crust+t_upper_crust+t_sa),\n",
    "    \"lower_crust\": np.ones(Nx) * (t_lower_crust + t_upper_crust + t_sed+t_sa),\n",
    "    \"upper_crust\": np.ones(Nx) * (t_upper_crust + t_sed + t_sa),\n",
    "  }\n",
    "\n",
    "interfaces[\"salt_base\"] = np.ones(Nx) *   (t_salt + t_sed + t_sa)\n",
    "sed_base = (t_sed + t_sa)\n",
    "sed_layers=np.arange(sed_base, t_sa, -1000)\n",
    "\n",
    "c=0\n",
    "inserted_sed_seed = False #seed não inserida\n",
    "for l in sed_layers:\n",
    "\n",
    "  if l-t_sa <= sed_seed_depth and insert_sed_seed==True: #se a profundidade for menor igual E inserir a weak seed\n",
    "    interfaces['sed_seed_base'] = np.ones(Nx)*(t_sa + sed_seed_depth)\n",
    "    interfaces['sed_seed_top'] = np.ones(Nx)*(t_sa + sed_seed_depth)\n",
    "    insert_sed_seed=False #não inserir mais weak seed\n",
    "    inserted_sed_seed = True #weak seed inserida\n",
    "\n",
    "  elif insert_sed_seed==True and l-t_sa <= min(sed_layers-t_sa): #Se inserir a ws E a profundidade\n",
    "    interfaces['sed_seed_base'] = np.ones(Nx)*(t_sa + sed_seed_depth)\n",
    "    interfaces['sed_seed_top'] = np.ones(Nx)*(t_sa + sed_seed_depth)\n",
    "    insert_sed_seed=False #não inserir mais weak seed\n",
    "    inserted_sed_seed = True #weak seed inserida\n",
    "\n",
    "  salt_waves = A_sed*np.sin(x*2*np.pi/lambda_sed) if c==0 else 0 #plotar ondulação no sal na primeira camada\n",
    "\n",
    "  interfaces[f'sed{c}'] = np.ones(Nx) * (l+salt_waves)\n",
    "  c+=1\n",
    "\n",
    "interfaces[\"air\"]= np.ones(Nx) * (t_sa)\n",
    "\n",
    "#sedimento\n",
    "if inserted_sed_seed==True: #se inserida\n",
    "  pos_i = int(Nx * (sed_x_seed/Lx) - sed_n_seed//2)\n",
    "  pos_f = int(Nx * (sed_x_seed/Lx) + sed_n_seed//2)\n",
    "  interfaces['sed_seed_base'][pos_i:pos_f] = interfaces['sed_seed_base'][pos_i:pos_f] + sed_thickness_seed//2\n",
    "  interfaces['sed_seed_top'][pos_i:pos_f] = interfaces['sed_seed_top'][pos_i:pos_f] - sed_thickness_seed//2\n",
    "\n",
    "#crosta\n",
    "pos_i = int(Nx * (x_seed/Lx) - n_seed//2)\n",
    "pos_f = int(Nx * (x_seed/Lx) + n_seed//2)\n",
    "interfaces['seed_base'][pos_i:pos_f] = interfaces['seed_base'][pos_i:pos_f] + thickness_seed//2\n",
    "interfaces['seed_top'][pos_i:pos_f] = interfaces['seed_top'][pos_i:pos_f] - thickness_seed//2\n",
    "\n"
   ]
  },
  {
   "cell_type": "markdown",
   "id": "781d0290",
   "metadata": {
    "id": "781d0290"
   },
   "source": [
    "Plot the interfaces:"
   ]
  },
  {
   "cell_type": "code",
   "execution_count": 23,
   "id": "CffHLXGebjQR",
   "metadata": {
    "id": "CffHLXGebjQR"
   },
   "outputs": [],
   "source": [
    "#The color below the inferface!\n",
    "cr = 255.0\n",
    "'''\n",
    "colors = {\n",
    "'air' : (225.0 / cr, 222.0 / cr, 112.0 / cr),\n",
    "'sed0' : (217.0 / cr, 139.0 / cr, 255.0 / cr),\n",
    "'salt_base' : (228.0 / cr, 156.0 / cr, 124.0 / cr),\n",
    "'upper_crust' : (240.0 / cr, 209.0 / cr, 188.0 / cr),\n",
    "'lower_crust' : (155.0 / cr, 194.0 / cr, 155.0 / cr),\n",
    "'litho' : (207.0 / cr, 226.0 / cr, 205.0 / cr)\n",
    "}\n",
    "'''\n",
    "\n",
    "color_sed = (246.0 / cr, 200.0 / cr, 6.0 / cr)\n",
    "color_upper_crust = (165.0 / cr, 163.0 / cr, 238.0 / cr)\n",
    "color_lower_crust = (227.0 / cr, 217.0 / cr, 242.0 / cr)\n",
    "color_lithosphere = (155.0 / cr, 194.0 / cr, 155.0 / cr)\n",
    "color_asthenosphere = (207.0 / cr, 226.0 / cr, 205.0 / cr)\n",
    "\n",
    "colors = {\n",
    "'air' : color_sed,\n",
    "'sed0' : '#dc92e0',\n",
    "'salt_base' : color_upper_crust,\n",
    "'upper_crust' : color_lower_crust,\n",
    "'lower_crust' : color_lithosphere,\n",
    "'litho' : color_asthenosphere\n",
    "}\n",
    "\n",
    "correct_labels = {\n",
    "'air' : 'Sediment',\n",
    "'sed0' : 'Salt',\n",
    "'salt_base' : 'Upper crust',\n",
    "'upper_crust' : 'Lower crust',\n",
    "'lower_crust' : 'Lithospheric mantle',\n",
    "'litho' : 'Asthenosphere'\n",
    "}\n",
    "\n",
    "if t_salt < 500 and t_sed==0:\n",
    "  correct_labels['air'] = correct_labels['salt_base']\n",
    "  colors['air'] = colors['salt_base']\n",
    "\n",
    "elif t_salt < 500:\n",
    "  correct_labels['sed0']=correct_labels['salt_base']\n",
    "  colors['sed0']=colors['salt_base']"
   ]
  },
  {
   "cell_type": "code",
   "execution_count": 24,
   "id": "856be68d",
   "metadata": {
    "colab": {
     "base_uri": "https://localhost:8080/",
     "height": 718
    },
    "executionInfo": {
     "elapsed": 2612,
     "status": "ok",
     "timestamp": 1732647579588,
     "user": {
      "displayName": "João Paulo de Souza Bueno",
      "userId": "07483061909957032656"
     },
     "user_tz": 180
    },
    "id": "856be68d",
    "outputId": "b50119a1-27d5-4737-8ab2-b71266212a0f"
   },
   "outputs": [
    {
     "data": {
      "image/png": "[encoded data removed]",
      "text/plain": [
       "<Figure size 1600x800 with 1 Axes>"
      ]
     },
     "metadata": {},
     "output_type": "display_data"
    }
   ],
   "source": [
    "fig, ax = plt.subplots(figsize=(16, 8))\n",
    "\n",
    "for ll in list(interfaces.items())[::-1]:\n",
    "    label, layer = ll[0], ll[1]\n",
    "    if basin_above==False:\n",
    "        ax.plot(x / 1e3, (-layer) / 1e3 + t_sa/1e3, '-k',lw=0.5,alpha=0.5)\n",
    "    else:\n",
    "        ax.plot(x / 1e3, (-layer) / 1e3 + t_sa/1e3, '-k',lw=0.5,alpha=0.5) \n",
    "    if 'seed' not in label:\n",
    "      if ('sed' in label) and (label!='sed0'):\n",
    "        label='air'\n",
    "        continue\n",
    "\n",
    "      ax.fill_between(x/1e3, (-layer) / 1e3+ t_sa/1e3, -Lz/1e3 + t_sa/1e3,color=colors[label],label=correct_labels[label])\n",
    "\n",
    "\n",
    "ax.set_yticks(np.arange(-Lz / 1e3, 1 / 1e3, 25))\n",
    "ax.set_xlim([0, Lx/1000])\n",
    "ax.set_ylim([-(Lz) / 1e3, 0 / 1e3])\n",
    "ax.set_ylim([-56000 / 1e3, 15000 / 1e3])\n",
    "\n",
    "ax.set_xlabel(\"x [km]\")\n",
    "ax.set_ylabel(\"Depth [km]\")\n",
    "\n",
    "plt.title(\"Interfaces\")\n",
    "plt.legend(loc='lower right',shadow=True)\n",
    "\n",
    "plt.show()\n"
   ]
  },
  {
   "cell_type": "markdown",
   "id": "90244dfb",
   "metadata": {
    "id": "90244dfb"
   },
   "source": [
    "#### Create the interface file\n",
    "\n",
    "The interface file contain the layer properties and the interface's depth between these layers.\n",
    "\n",
    "Layer properties:\n",
    "* Compositional factor (C)\n",
    "* Density (rho)\n",
    "* Radiogenic heat (H)\n",
    "* Pre-exponential scale factor (A)\n",
    "* Power law exponent (n)\n",
    "* Activation energy (Q)\n",
    "* Activation volume (v)\n",
    "* Thermal diffusivity (k)"
   ]
  },
  {
   "cell_type": "code",
   "execution_count": 11,
   "id": "7a8fd1fa",
   "metadata": {
    "id": "7a8fd1fa"
   },
   "outputs": [],
   "source": [
    "#Salt Params from Massimi (2007), Andrés-Martínez et al. (2019) and Pitchel et al. (2022)\n",
    "#doi.org/10.1016/j.cma.2007.08.004\n",
    "#doi.org/10.1029/2021TC007158\n",
    "\n",
    "\n",
    "\n",
    "#Salt properties\n",
    "rho_salt = 2200.0          #kg/m³  (density)\n",
    "visc_salt = 1.0e-18       #Pa.s (viscosity)\n",
    "Hsalt = 0 #0.8e-6/rho_salt  #W/kg   (radiogec heat production)\n",
    "Q_salt = 2.0e4          #J/mol  (activation energy)\n",
    "V_salt = 4.0e-6          #m³/mol (activation volume)\n",
    "n_salt = 1.7             # --    (power-law of viscosity)\n",
    "k_salt = 6.5             #W/mK   (thermal conductivity)\n",
    "\n",
    "\n",
    "#sediment properties\n",
    "rho_sed = 2500.0          #kg/m³   (sed. density)\n",
    "visc_sed = 1.0e-24        #Pa.s    (effective viscosity?)\n",
    "Hsed = 1.3e-6 / rho_sed     #(sed. radiogenic heat prod.)\n",
    "n_sed = 4\n",
    "Q_sed = 222.0e3\n",
    "A_sed = 8.574e-28\n",
    "cmax_sed = 10e+6\n",
    "cmin_sed = 4e+6\n",
    "fmin_sed = 2\n",
    "fmax_sed = 15\n",
    "\n",
    "\n",
    "#deixar o sal constante\n",
    "Q_salt = 0           #J/mol  (activation energy)\n",
    "V_salt = 0          #m³/mol (activation volume)\n",
    "n_salt = 1             # --    (power-law of viscosity)\n",
    "\n",
    "#k = 2.5 in sedimentary basins represents a layer of siltstone\n",
    "\n",
    "#Thermal properties\n",
    "kp_sed = 1.5/(rho_sed*818.2)   #sandstone:2.5; shale: <1.1\n",
    "kp_salt = k_salt/(rho_salt*803.6)   #between 2e-6 to 6e-6 m²/s\n",
    "kp_uc = 2.5/(2700*818.2)\n",
    "kp_lc = 2.5/(2800*775.8)\n",
    "kp_man = 3.3/(3360*681.81)\n",
    "kp_air = 1e-5\n",
    "\n",
    "if kappa_cr_cte==True:\n",
    "  kp_salt = 1e-6   #between 2e-6 to 6e-6 m²/s\n",
    "  kp_uc = 1e-6\n",
    "  kp_lc = 1e-6\n",
    "  kp_man = 1e-6\n",
    "  kp_air = 1e-6\n",
    "\n",
    "if kappa_cte==True:\n",
    "    kp_sed = 1e-6   #sandstone:2.5; shale: 1.1\n"
   ]
  },
  {
   "cell_type": "code",
   "execution_count": 12,
   "id": "E0iUf9zZh-zx",
   "metadata": {
    "id": "E0iUf9zZh-zx"
   },
   "outputs": [],
   "source": [
    "#Para montar o arquivo de interfaces\n",
    "saltprops = {'C':'1.0',  'rho': f'{rho_salt}',  'H': f'{Hsalt}', 'A': f'{visc_salt}', 'n': f'{n_salt}',\n",
    "            'Q': f'{Q_salt}',     'V': f'{V_salt}', 'k': f'{kp_salt}', 'cmin' : '4e+6', 'cmax':'20e+6',\n",
    "            'fmin' :'2', 'fmax':'15', 'wseed':'0.0'}"
   ]
  },
  {
   "cell_type": "code",
   "execution_count": 13,
   "id": "yUWdSXMn7IVU",
   "metadata": {
    "colab": {
     "base_uri": "https://localhost:8080/",
     "height": 452
    },
    "executionInfo": {
     "elapsed": 8,
     "status": "ok",
     "timestamp": 1732647579588,
     "user": {
      "displayName": "João Paulo de Souza Bueno",
      "userId": "07483061909957032656"
     },
     "user_tz": 180
    },
    "id": "yUWdSXMn7IVU",
    "outputId": "783932de-66a6-4eb2-f4ce-be8f537e3c5a"
   },
   "outputs": [
    {
     "data": {
      "text/plain": [
       "(-10.0, 0.0)"
      ]
     },
     "execution_count": 13,
     "metadata": {},
     "output_type": "execute_result"
    },
    {
     "data": {
      "image/png": "[encoded data removed]",
      "text/plain": [
       "<Figure size 640x480 with 1 Axes>"
      ]
     },
     "metadata": {},
     "output_type": "display_data"
    }
   ],
   "source": [
    "#Ploting the density of sediment as function of porosity (depth)\n",
    "def phi(depth, phi0=0.55, c=0.51): #allen and allen, pg 356\n",
    "  return phi0*np.exp(-c*depth)\n",
    "\n",
    "plt.plot(phi(z/1e3),-z/1e3)\n",
    "plt.ylim(-10,0)"
   ]
  },
  {
   "cell_type": "code",
   "execution_count": 14,
   "id": "hoL0TvPictbq",
   "metadata": {
    "colab": {
     "base_uri": "https://localhost:8080/",
     "height": 453
    },
    "executionInfo": {
     "elapsed": 1089,
     "status": "ok",
     "timestamp": 1732647580671,
     "user": {
      "displayName": "João Paulo de Souza Bueno",
      "userId": "07483061909957032656"
     },
     "user_tz": 180
    },
    "id": "hoL0TvPictbq",
    "outputId": "2b8b4f8d-2d7e-4de7-d0c3-013f6f53badf"
   },
   "outputs": [],
   "source": [
    "sedprops = {'prof': '',  'C':'',  'rho': '',  'H': '', 'A': '', 'n': '',\n",
    "            'Q': '',     'V': '', 'k': '', 'cmin' : '', 'cmax':'',\n",
    "            'fmin' :'', 'fmax':'', 'wseed':''}\n",
    "\n",
    "if t_sed>0:\n",
    "  sed_weak_array = (sed_layers-t_sa)\n",
    "  if inserted_sed_seed==True:\n",
    "    sed_weak_array = np.append(sed_weak_array, [sed_seed_depth,sed_seed_depth-1])\n",
    "  profs = np.sort(sed_weak_array)\n",
    "\n",
    "  r = []\n",
    "  param_seed_inserted = False #variavel pra ver se a seed ja foi inserida\n",
    "\n",
    "  for l in profs[::-1]:\n",
    "    sedprops['prof'] += f'{l} '\n",
    "\n",
    "\n",
    "    its_the_seed = True if (param_seed_inserted == False) and (l==sed_seed_depth) else False #a camada é a seed se ela não foi inserida e tem a mesma profundidade\n",
    "    param_seed_inserted = True if its_the_seed==True else False #a seed foi inserida\n",
    "\n",
    "    c = 1.0 if its_the_seed==False else 0.1\n",
    "    wseed = -1.0  if its_the_seed==False else 0.5\n",
    "    sedprops['wseed'] += f'{wseed} '\n",
    "    sedprops['C'] += f'{c} '\n",
    "\n",
    "    #rho\n",
    "    porosity = phi(l/1e3)\n",
    "    rholayer = rho_sed * (1-porosity) + 1000 * porosity\n",
    "    sedprops['rho'] += f'{rholayer}  '\n",
    "    r.append(rholayer)\n",
    "\n",
    "    #rest of the properties\n",
    "    sedprops['A'] += f'{A_sed} '\n",
    "    sedprops['H'] += f'{Hsed}  '\n",
    "    sedprops['n'] += f'{n_sed}  '\n",
    "    sedprops['Q'] += f'{Q_sed}  '\n",
    "    sedprops['V'] += f'{V_salt}  '\n",
    "    sedprops['k'] += f'{kp_sed}  '\n",
    "    sedprops['cmin'] += f'{cmin_sed}  '\n",
    "    sedprops['cmax'] += f'{cmax_sed}  '\n",
    "    sedprops['fmin'] += f'{fmin_sed}  '\n",
    "    sedprops['fmax'] += f'{fmax_sed}  '\n",
    "\n",
    "\n",
    "\n",
    "\n",
    "  plt.plot(r, -profs[::-1])\n",
    "  plt.ylabel('z (m)')\n",
    "  plt.xlabel('$ \\\\rho_{sed}$ (kg/m³)')"
   ]
  },
  {
   "cell_type": "code",
   "execution_count": 15,
   "id": "z7oeRA_yC0Fg",
   "metadata": {
    "id": "z7oeRA_yC0Fg"
   },
   "outputs": [],
   "source": [
    "#Caso não haja sal e/ou sedimento:\n",
    "if t_salt==0:\n",
    "  salt_intparams = list(saltprops.keys())\n",
    "  for p in salt_intparams:\n",
    "    saltprops[p] = ''\n",
    "\n",
    "if t_sed==0:\n",
    "  sed_intparams = list(sedprops.keys())\n",
    "  for p in sed_intparams:\n",
    "    sedprops[p] = ''\n"
   ]
  },
  {
   "cell_type": "code",
   "execution_count": 16,
   "id": "8c774884",
   "metadata": {
    "colab": {
     "base_uri": "https://localhost:8080/",
     "height": 488
    },
    "executionInfo": {
     "elapsed": 11,
     "status": "ok",
     "timestamp": 1732647580671,
     "user": {
      "displayName": "João Paulo de Souza Bueno",
      "userId": "07483061909957032656"
     },
     "user_tz": 180
    },
    "id": "8c774884",
    "outputId": "37484bd1-0ce8-4b77-de98-318cc75d1293"
   },
   "outputs": [
    {
     "data": {
      "text/html": [
       "<div>\n",
       "<style scoped>\n",
       "    .dataframe tbody tr th:only-of-type {\n",
       "        vertical-align: middle;\n",
       "    }\n",
       "\n",
       "    .dataframe tbody tr th {\n",
       "        vertical-align: top;\n",
       "    }\n",
       "\n",
       "    .dataframe thead th {\n",
       "        text-align: right;\n",
       "    }\n",
       "</style>\n",
       "<table border=\"1\" class=\"dataframe\">\n",
       "  <thead>\n",
       "    <tr style=\"text-align: right;\">\n",
       "      <th></th>\n",
       "      <th>C</th>\n",
       "      <th>rho</th>\n",
       "      <th>H</th>\n",
       "      <th>A</th>\n",
       "      <th>n</th>\n",
       "      <th>Q</th>\n",
       "      <th>V</th>\n",
       "      <th>k</th>\n",
       "      <th>weakening_seed</th>\n",
       "      <th>cohesion_min</th>\n",
       "      <th>cohesion_max</th>\n",
       "      <th>friction_angle_min</th>\n",
       "      <th>friction_angle_max</th>\n",
       "    </tr>\n",
       "  </thead>\n",
       "  <tbody>\n",
       "    <tr>\n",
       "      <th>0</th>\n",
       "      <td>1.0</td>\n",
       "      <td>3378.0</td>\n",
       "      <td>0.000000e+00</td>\n",
       "      <td>1.393000e-14</td>\n",
       "      <td>3.0</td>\n",
       "      <td>429000.0</td>\n",
       "      <td>0.000015</td>\n",
       "      <td>0.000001</td>\n",
       "      <td>0.0</td>\n",
       "      <td>4000000.0</td>\n",
       "      <td>20000000.0</td>\n",
       "      <td>2.0</td>\n",
       "      <td>15.0</td>\n",
       "    </tr>\n",
       "    <tr>\n",
       "      <th>1</th>\n",
       "      <td>1.0</td>\n",
       "      <td>3354.0</td>\n",
       "      <td>9.000000e-12</td>\n",
       "      <td>2.416800e-15</td>\n",
       "      <td>3.5</td>\n",
       "      <td>540000.0</td>\n",
       "      <td>0.000025</td>\n",
       "      <td>0.000001</td>\n",
       "      <td>-1.0</td>\n",
       "      <td>4000000.0</td>\n",
       "      <td>20000000.0</td>\n",
       "      <td>2.0</td>\n",
       "      <td>15.0</td>\n",
       "    </tr>\n",
       "    <tr>\n",
       "      <th>2</th>\n",
       "      <td>0.1</td>\n",
       "      <td>3354.0</td>\n",
       "      <td>9.000000e-12</td>\n",
       "      <td>2.416800e-15</td>\n",
       "      <td>3.5</td>\n",
       "      <td>540000.0</td>\n",
       "      <td>0.000025</td>\n",
       "      <td>0.000001</td>\n",
       "      <td>1.0</td>\n",
       "      <td>4000000.0</td>\n",
       "      <td>20000000.0</td>\n",
       "      <td>2.0</td>\n",
       "      <td>15.0</td>\n",
       "    </tr>\n",
       "    <tr>\n",
       "      <th>3</th>\n",
       "      <td>1.0</td>\n",
       "      <td>3354.0</td>\n",
       "      <td>9.000000e-12</td>\n",
       "      <td>2.416800e-15</td>\n",
       "      <td>3.5</td>\n",
       "      <td>540000.0</td>\n",
       "      <td>0.000025</td>\n",
       "      <td>0.000001</td>\n",
       "      <td>-1.0</td>\n",
       "      <td>4000000.0</td>\n",
       "      <td>20000000.0</td>\n",
       "      <td>2.0</td>\n",
       "      <td>15.0</td>\n",
       "    </tr>\n",
       "    <tr>\n",
       "      <th>4</th>\n",
       "      <td>1.0</td>\n",
       "      <td>2800.0</td>\n",
       "      <td>2.857143e-10</td>\n",
       "      <td>8.574000e-28</td>\n",
       "      <td>4.0</td>\n",
       "      <td>222000.0</td>\n",
       "      <td>0.000000</td>\n",
       "      <td>0.000001</td>\n",
       "      <td>-1.0</td>\n",
       "      <td>4000000.0</td>\n",
       "      <td>20000000.0</td>\n",
       "      <td>2.0</td>\n",
       "      <td>15.0</td>\n",
       "    </tr>\n",
       "    <tr>\n",
       "      <th>5</th>\n",
       "      <td>1.0</td>\n",
       "      <td>2700.0</td>\n",
       "      <td>9.259259e-10</td>\n",
       "      <td>8.574000e-28</td>\n",
       "      <td>4.0</td>\n",
       "      <td>222000.0</td>\n",
       "      <td>0.000000</td>\n",
       "      <td>0.000001</td>\n",
       "      <td>-1.0</td>\n",
       "      <td>4000000.0</td>\n",
       "      <td>20000000.0</td>\n",
       "      <td>2.0</td>\n",
       "      <td>15.0</td>\n",
       "    </tr>\n",
       "    <tr>\n",
       "      <th>6</th>\n",
       "      <td>1.0</td>\n",
       "      <td>1.0</td>\n",
       "      <td>0.000000e+00</td>\n",
       "      <td>1.000000e-18</td>\n",
       "      <td>1.0</td>\n",
       "      <td>0.0</td>\n",
       "      <td>0.000000</td>\n",
       "      <td>0.000010</td>\n",
       "      <td>-1.0</td>\n",
       "      <td>4000000.0</td>\n",
       "      <td>20000000.0</td>\n",
       "      <td>2.0</td>\n",
       "      <td>15.0</td>\n",
       "    </tr>\n",
       "  </tbody>\n",
       "</table>\n",
       "</div>"
      ],
      "text/plain": [
       "     C     rho             H             A    n         Q         V         k  \\\n",
       "0  1.0  3378.0  0.000000e+00  1.393000e-14  3.0  429000.0  0.000015  0.000001   \n",
       "1  1.0  3354.0  9.000000e-12  2.416800e-15  3.5  540000.0  0.000025  0.000001   \n",
       "2  0.1  3354.0  9.000000e-12  2.416800e-15  3.5  540000.0  0.000025  0.000001   \n",
       "3  1.0  3354.0  9.000000e-12  2.416800e-15  3.5  540000.0  0.000025  0.000001   \n",
       "4  1.0  2800.0  2.857143e-10  8.574000e-28  4.0  222000.0  0.000000  0.000001   \n",
       "5  1.0  2700.0  9.259259e-10  8.574000e-28  4.0  222000.0  0.000000  0.000001   \n",
       "6  1.0     1.0  0.000000e+00  1.000000e-18  1.0       0.0  0.000000  0.000010   \n",
       "\n",
       "   weakening_seed  cohesion_min  cohesion_max  friction_angle_min  \\\n",
       "0             0.0     4000000.0    20000000.0                 2.0   \n",
       "1            -1.0     4000000.0    20000000.0                 2.0   \n",
       "2             1.0     4000000.0    20000000.0                 2.0   \n",
       "3            -1.0     4000000.0    20000000.0                 2.0   \n",
       "4            -1.0     4000000.0    20000000.0                 2.0   \n",
       "5            -1.0     4000000.0    20000000.0                 2.0   \n",
       "6            -1.0     4000000.0    20000000.0                 2.0   \n",
       "\n",
       "   friction_angle_max  \n",
       "0                15.0  \n",
       "1                15.0  \n",
       "2                15.0  \n",
       "3                15.0  \n",
       "4                15.0  \n",
       "5                15.0  \n",
       "6                15.0  "
      ]
     },
     "execution_count": 16,
     "metadata": {},
     "output_type": "execute_result"
    }
   ],
   "source": [
    "# Define the radiogenic heat for the upper and lower crust in W/kg:\n",
    "Hsed = 1.3e-6 / rho_sed     #(sed. radiogenic heat prod.)\n",
    "Huc = 2.5e-6 / 2700.0\n",
    "Hlc = 0.8e-6 / 2800.0\n",
    "\n",
    "dic_params = {}\n",
    "# PRECISA TER 1 LINHA DE PARAMETROS A MAIS DO QUE DE INTERFACES!!!!!\n",
    "# Create and save the interface file:\n",
    "with open(\"interfaces.txt\", \"w\") as f:\n",
    "  #Astenosfera - Manto - Seed - Manto - Crosta inferior - Crosta superior - Sal - Sedimento - Sed Seed - Sedimento - Ar\n",
    "  layer_properties = f\"\"\"\n",
    "    C   1.0       1.0        0.1        1.0         1.0         1.0         {saltprops['C']}      {sedprops['C']}     1.0\n",
    "    rho 3378.0    3354.0     3354.0     3354.0      2800.0      2700.0      {saltprops['rho']}    {sedprops['rho']}   1.0\n",
    "    H   0.0       9.0e-12    9.0e-12    9.0e-12     {Hlc}       {Huc}       {saltprops['H']}      {sedprops['H']}     0.0\n",
    "    A   1.393e-14 2.4168e-15 2.4168e-15 2.4168e-15  8.574e-28   8.574e-28   {saltprops['A']}      {sedprops['A']}     1.0e-18\n",
    "    n   3.0       3.5        3.5        3.5         4.0         4.0         {saltprops['n']}      {sedprops['n']}     1.0\n",
    "    Q   429.0e3   540.0e3    540.0e3    540.0e3     222.0e3     222.0e3     {saltprops['Q']}      {sedprops['Q']}     0.0\n",
    "    V   15.0e-6   25.0e-6    25.0e-6    25.0e-6     0.0         0.0         {saltprops['V']}      {sedprops['V']}     0.0\n",
    "    k   {kp_man}  {kp_man}   {kp_man}  {kp_man}    {kp_lc}     {kp_uc}      {saltprops['k']}      {sedprops['k']}     {kp_air}\n",
    "    weakening_seed 0.0    -1.0 1.0     -1.0        -1.0        -1.0         {saltprops['wseed']}  {sedprops['wseed']} -1.0\n",
    "    cohesion_min  4e+6   4e+6  4e+6     4e+6        4e+6        4e+6        {saltprops['cmin']}   {sedprops['cmin']}  4e+6\n",
    "    cohesion_max  20e+6  20e+6  20e+6   20e+6       20e+6       20e+6       {saltprops['cmax']}   {sedprops['cmax']}  20e+6\n",
    "    friction_angle_min  2   2     2     2           2           2           {saltprops['fmin']}   {sedprops['fmin']}  2\n",
    "    friction_angle_max  15  15    15    15          15          15          {saltprops['fmax']}   {sedprops['fmax']}  15\n",
    "  \"\"\"\n",
    "\n",
    "  for line in layer_properties.split(\"\\n\"):\n",
    "      line = line.strip()\n",
    "      if len(line):\n",
    "        dic_params[line.split()[0]] = np.array(line.split()[1:]).astype(np.float32)\n",
    "\n",
    "        f.write(\" \".join(line.split()) + \"\\n\")\n",
    "\n",
    "\n",
    "  # layer interfaces\n",
    "  data = -1 * np.array(tuple(interfaces.values())).T\n",
    "  np.savetxt(f, data, fmt=\"%.1f\")\n",
    "\n",
    "dfparams = pd.DataFrame(dic_params)\n",
    "dfparams\n"
   ]
  },
  {
   "cell_type": "markdown",
   "id": "215a67a2",
   "metadata": {
    "id": "215a67a2"
   },
   "source": [
    "### Create initial temperature field\n",
    "\n",
    "The initial temperature structure is depth dependent and is 0°C at the surface and 1300°C at the base of the lithosphere at 130 km.\n",
    "With these boundary conditions, the initial temperature structure in the interior of the lithosphere is given by the solution of the following equation:\n",
    "\n",
    "$$ \\kappa \\frac{\\partial^2 T(z)}{\\partial z^2} + \\frac{H(z)}{c_p} = 0$$\n",
    "\n",
    "where $H(z)$ is the internal heat production of the different layers.\n",
    "\n",
    "The sublithospheric temperature follows an adiabatic increase up to the bottom of the model:\n",
    "\n",
    "$$T = T_p exp (g \\alpha z ∕c_p)$$\n",
    "\n",
    "Where $T_p$ is the potential temperature for the mantle, $g$ is the gravity aceletation, $\\alpha$ is the volumetric expansion coefficient, $c_p$ is the specific heat capacity."
   ]
  },
  {
   "cell_type": "code",
   "execution_count": 15,
   "id": "7161120c",
   "metadata": {
    "id": "7161120c"
   },
   "outputs": [],
   "source": [
    "kappa = 1.0e-6 # m^2/s\n",
    "ccapacity = 1250 # J/(kg K)\n",
    "tem_p = 1262  # °C\n",
    "g = -10 # m/s^2\n",
    "alpha = 3.28e-5 # 1/K"
   ]
  },
  {
   "cell_type": "code",
   "execution_count": 16,
   "id": "8b8307ea",
   "metadata": {
    "id": "8b8307ea"
   },
   "outputs": [],
   "source": [
    "# Temperature when z < 130 km:\n",
    "temp_z = 1300 * (z - t_sa) / (t_litho)\n",
    "\n",
    "# Sublithospheric temperature:\n",
    "temp_adiabatic = tem_p / np.exp(g * alpha * (z - t_sa) / ccapacity)\n",
    "\n",
    "temp_z[temp_z < 0.0] = 0.0\n",
    "temp_z[temp_z > temp_adiabatic] = temp_adiabatic[temp_z > temp_adiabatic]\n",
    "temp_z = np.float64(temp_z)"
   ]
  },
  {
   "cell_type": "markdown",
   "id": "a05b2c3f",
   "metadata": {
    "id": "a05b2c3f"
   },
   "source": [
    "Now, we will apply the thermal diffusivity in the model."
   ]
  },
  {
   "cell_type": "markdown",
   "id": "051b0d05",
   "metadata": {
    "id": "051b0d05"
   },
   "source": [
    "Create the internal heat production model:"
   ]
  },
  {
   "cell_type": "code",
   "execution_count": 17,
   "id": "bd410150",
   "metadata": {
    "colab": {
     "base_uri": "https://localhost:8080/",
     "height": 491
    },
    "executionInfo": {
     "elapsed": 915,
     "status": "ok",
     "timestamp": 1732647581577,
     "user": {
      "displayName": "João Paulo de Souza Bueno",
      "userId": "07483061909957032656"
     },
     "user_tz": 180
    },
    "id": "bd410150",
    "outputId": "c3182486-6bd3-41a3-ce04-a01baba29edd"
   },
   "outputs": [
    {
     "data": {
      "text/plain": [
       "(-260.0, 10.0)"
      ]
     },
     "execution_count": 17,
     "metadata": {},
     "output_type": "execute_result"
    },
    {
     "data": {
      "image/png": "[encoded data removed]",
      "text/plain": [
       "<Figure size 1000x500 with 2 Axes>"
      ]
     },
     "metadata": {},
     "output_type": "display_data"
    }
   ],
   "source": [
    "H = np.zeros_like(temp_z)\n",
    "KP = np.zeros_like(temp_z)\n",
    "KP = KP.astype(np.float64)\n",
    "\n",
    "if t_sed>0:\n",
    "  # Add the H value to the sediment:\n",
    "  cond = (z >= t_sa) & (\n",
    "      z < t_sed + t_sa\n",
    "  )   # lower crust\n",
    "  H[cond] = Hsed\n",
    "  KP[cond] = np.round(kp_sed,8)\n",
    "\n",
    "if t_salt>0:\n",
    "  # Add the H value to the salt:\n",
    "  cond = (z >= t_sed + t_sa) & (\n",
    "      z < t_salt + t_sed + t_sa\n",
    "  )   # lower crust\n",
    "  H[cond] = Hsalt\n",
    "  KP[cond] = np.round(kp_salt,8)\n",
    "\n",
    "# Add the H value for the upper crust:\n",
    "cond = (z >= t_sed+t_salt+t_sa) & (z < t_sed+t_salt+t_upper_crust + t_sa)\n",
    "H[cond] = Huc\n",
    "KP[cond] = np.round(kp_uc,8)\n",
    "\n",
    "# Add the H value for the lower crust:\n",
    "cond = (z >= t_sed+t_salt+t_upper_crust + t_sa) & (\n",
    "    z < t_sed+t_salt+t_lower_crust + t_upper_crust + t_sa\n",
    ")   # lower crust\n",
    "H[cond] = Hlc\n",
    "KP[cond] = np.round(kp_lc,8)\n",
    "\n",
    "KP[z>=t_sed+t_salt+t_upper_crust + t_sa + t_lower_crust] = np.round(kp_man,8)\n",
    "KP[z<=t_sa] = 1e-6\n",
    "\n",
    "KP[:] = kappa if kappa_cte==True else KP[:]    #Caso kappa seja cte\n",
    "\n",
    "fig, axs = plt.subplots(1,2,figsize=(10,5), sharey=True)\n",
    "axs[0].plot(H[:]/1e-6, -z/1e3+40,'-k')\n",
    "axs[1].plot(KP[:]/1e-6, -z/1e3+40,'-r')\n",
    "\n",
    "axs[1].set_xlabel(\"$ \\kappa (\\mu m²/s)$\")\n",
    "axs[0].set_xlabel(\"H $(\\mu W/kg)$\") #Rad. Heat production\n",
    "axs[0].set_ylabel(\"Depth (km)\")\n",
    "axs[0].set_ylim(-(Lz-t_sa)/1e3, 10)\n"
   ]
  },
  {
   "cell_type": "code",
   "execution_count": 18,
   "id": "4cf652e6",
   "metadata": {
    "id": "4cf652e6"
   },
   "outputs": [],
   "source": [
    "Taux = np.copy(temp_z)\n",
    "t = 0\n",
    "dt = 500      #anos: 2000 é bom se for cte, mas é muito grande para difusão variada\n",
    "dt_sec = dt * 365 * 24 * 3600\n",
    "cond = (z > t_sa + t_litho) | (temp_z == 0)\n",
    "dz = Lz / (Nz - 1)\n",
    "\n",
    "# Apply the thermal diffusivity\n",
    "while t < 250.0e6:\n",
    "  try:\n",
    "    termo1 = np.float64(KP[1:-1]*(temp_z[2:]-temp_z[1:-1])/dz)\n",
    "    termo2 = np.float64(KP[:-2]*(temp_z[1:-1]-temp_z[:-2])/dz)\n",
    "    termo12 = dt_sec*( termo1-termo2 )/dz\n",
    "    termoprod = H[1:-1] * dt_sec / ccapacity\n",
    "    temp_z[1:-1] += termo12 + termoprod\n",
    "\n",
    "  except RuntimeWarning:\n",
    "    print(f'''termo1: {termo1.max()}\\n\n",
    "    termo2: {termo2.max()}\\n\n",
    "    termo12: {termo12.max()}\\n\n",
    "    dz: {dz}''')\n",
    "\n",
    "  '''\n",
    "    temp_z[1:-1] += (\n",
    "        kappa * dt_sec * ((temp_z[2:] + temp_z[:-2] - 2 * temp_z[1:-1]) / dz ** 2)\n",
    "        + H[1:-1] * dt_sec / ccapacity\n",
    "    )\n",
    "\n",
    "  '''\n",
    "  temp_z[cond] = Taux[cond]\n",
    "\n",
    "  t = t + dt\n",
    "\n",
    "#plt.plot(temp_z,-z/1e3+t_sa/1e3)"
   ]
  },
  {
   "cell_type": "markdown",
   "id": "8c02461f",
   "metadata": {
    "id": "8c02461f"
   },
   "source": [
    "Save initial temperature file:"
   ]
  },
  {
   "cell_type": "code",
   "execution_count": 19,
   "id": "e1798cae",
   "metadata": {
    "colab": {
     "base_uri": "https://localhost:8080/"
    },
    "executionInfo": {
     "elapsed": 1488,
     "status": "ok",
     "timestamp": 1732647602476,
     "user": {
      "displayName": "João Paulo de Souza Bueno",
      "userId": "07483061909957032656"
     },
     "user_tz": 180
    },
    "id": "e1798cae",
    "outputId": "f11571aa-47fc-4ee2-cf91-0b097ec57459"
   },
   "outputs": [
    {
     "name": "stdout",
     "output_type": "stream",
     "text": [
      "[1351.10363262 1350.74914954 1350.39475946 1350.04046236 1349.68625822\n",
      " 1349.332147   1348.9781287  1348.62420327 1348.27037071 1347.91663097\n",
      " 1347.56298405 1347.20942991 1346.85596853 1346.50259989 1346.14932396\n",
      " 1345.79614072 1345.44305014 1345.0900522  1344.73714687 1344.38433413\n",
      " 1344.03161396 1343.67898634 1343.32645122 1342.97400861 1342.62165846\n",
      " 1342.26940075 1341.91723547 1341.56516258 1341.21318206 1340.86129389\n",
      " 1340.50949805 1340.1577945  1339.80618323 1339.45466421 1339.10323741\n",
      " 1338.75190282 1338.4006604  1338.04951014 1337.69845201 1337.34748599\n",
      " 1336.99661205 1336.64583016 1336.29514031 1335.94454246 1335.5940366\n",
      " 1335.2436227  1334.89330074 1334.54307069 1334.19293253 1333.84288623\n",
      " 1333.49293177 1333.14306913 1332.79329828 1332.4436192  1332.09403186\n",
      " 1331.74453625 1331.39513232 1331.04582007 1330.69659947 1330.34747049\n",
      " 1329.99843311 1329.6494873  1329.30063305 1328.95187032 1328.6031991\n",
      " 1328.25461936 1327.90613107 1327.55773421 1327.20942876 1326.86121469\n",
      " 1326.51309199 1326.16506062 1325.81712056 1325.46927178 1325.12151427\n",
      " 1324.773848   1324.42627295 1324.07878909 1323.73139639 1323.38409484\n",
      " 1323.03688441 1322.68976508 1322.34273682 1321.9957996  1321.64895341\n",
      " 1321.30219822 1320.95553401 1320.60896075 1320.26247842 1319.91608699\n",
      " 1319.56978645 1319.22357676 1318.87745791 1318.53142986 1318.18549261\n",
      " 1317.83964611 1317.49389035 1317.14822531 1316.80265096 1316.45716727\n",
      " 1316.11177423 1315.7664718  1315.42125997 1315.07613872 1314.73110801\n",
      " 1314.38616782 1314.04131814 1313.69655893 1313.35189018 1313.00731185\n",
      " 1312.66282393 1312.31842639 1311.97411921 1311.62990237 1311.28577583\n",
      " 1310.94173959 1310.5977936  1310.25393786 1309.91017233 1309.56649699\n",
      " 1309.22291182 1308.8794168  1308.5360119  1308.19269709 1307.84947236\n",
      " 1307.50633768 1307.16329303 1306.82033838 1306.4774737  1306.13469899\n",
      " 1298.50426179 1290.87385214 1283.2434976  1275.61322566 1267.9830638\n",
      " 1260.35303942 1252.72317983 1245.09351225 1237.46406381 1229.8348615\n",
      " 1222.20593216 1214.57730248 1206.94899899 1199.321048   1191.69347566\n",
      " 1184.06630787 1176.43957031 1168.8132884  1161.18748733 1153.56219197\n",
      " 1145.93742694 1138.31321652 1130.6895847  1123.06655512 1115.44415107\n",
      " 1107.82239549 1100.20131096 1092.58091965 1084.96124333 1077.34230339\n",
      " 1069.72412076 1062.10671596 1054.49010904 1046.87431963 1039.25936684\n",
      " 1031.64526933 1024.03204526 1016.4197123  1008.80828758 1001.19778774\n",
      "  993.58822886  985.9796265   978.37199566  970.76535078  963.15970573\n",
      "  955.55507381  947.95146775  940.34889968  932.74738111  925.14692298\n",
      "  917.54753561  909.9492287   902.35201133  894.75589195  887.16087838\n",
      "  879.56697782  871.9741968   864.38254123  856.79201637  849.20262682\n",
      "  841.61437653  834.0272688   826.44130627  818.85649092  811.27282407\n",
      "  803.69030638  796.10893786  788.52871784  780.949645    773.37171736\n",
      "  765.79493228  758.21928646  750.64477595  743.07139616  735.49914181\n",
      "  727.92800701  720.35798522  712.78906925  705.22125127  697.65452283\n",
      "  690.08887485  682.52429764  674.96078086  667.39831361  659.83688433\n",
      "  652.27648092  644.71709064  637.15870021  629.60129573  622.04486278\n",
      "  614.48938636  606.9348509   599.15266889  591.1428237   582.90529819\n",
      "  574.4400747   565.74713507  556.82646065  547.67803229  538.3018304\n",
      "  528.69783492  518.86602532  508.80638068  498.5188796   488.00350033\n",
      "  477.26022067  466.28901806  455.08986956  443.15058257  430.47113343\n",
      "  417.05149817  402.8916525   387.99157181  372.35123121  355.97060554\n",
      "  338.84966935  320.98839698  302.38676252  283.04473982  262.96230258\n",
      "  242.13942425  220.57607816  198.27223746  175.22787515  151.44296413\n",
      "  127.24221789  102.62560914   77.59311045   52.14469438   26.28033341\n",
      "    0.            0.            0.            0.            0.\n",
      "    0.            0.            0.            0.            0.\n",
      "    0.            0.            0.            0.            0.\n",
      "    0.            0.            0.            0.            0.\n",
      "    0.            0.            0.            0.            0.\n",
      "    0.            0.            0.            0.            0.\n",
      "    0.            0.            0.            0.            0.\n",
      "    0.            0.            0.            0.            0.\n",
      "    0.        ]\n",
      "(301, 1201)\n"
     ]
    }
   ],
   "source": [
    "print(temp_z)\n",
    "\n",
    "temp_z = np.ones_like(X) * temp_z[:,None]\n",
    "\n",
    "print(np.shape(temp_z))\n",
    "\n",
    "# Save the initial temperature file\n",
    "np.savetxt(\n",
    "    \"input_temperature_0.txt\",\n",
    "    np.reshape(temp_z, (Nx * Nz)),\n",
    "    header=\"T1\\nT2\\nT3\\nT4\"\n",
    ")"
   ]
  },
  {
   "cell_type": "code",
   "execution_count": 20,
   "id": "86e177f7-dec0-48cc-92bc-04aff4ac3554",
   "metadata": {},
   "outputs": [
    {
     "data": {
      "text/plain": [
       "array([1.e-06, 1.e-06, 1.e-06, 1.e-06, 1.e-06, 1.e-06, 1.e-06, 1.e-06,\n",
       "       1.e-06, 1.e-06, 1.e-06, 1.e-06, 1.e-06, 1.e-06, 1.e-06, 1.e-06,\n",
       "       1.e-06, 1.e-06, 1.e-06, 1.e-06, 1.e-06, 1.e-06, 1.e-06, 1.e-06,\n",
       "       1.e-06, 1.e-06, 1.e-06, 1.e-06, 1.e-06, 1.e-06, 1.e-06, 1.e-06,\n",
       "       1.e-06, 1.e-06, 1.e-06, 1.e-06, 1.e-06, 1.e-06, 1.e-06, 1.e-06,\n",
       "       1.e-06, 1.e-06, 1.e-06, 1.e-06, 1.e-06, 1.e-06, 1.e-06, 1.e-06,\n",
       "       1.e-06, 1.e-06, 1.e-06, 1.e-06, 1.e-06, 1.e-06, 1.e-06, 1.e-06,\n",
       "       1.e-06, 1.e-06, 1.e-06, 1.e-06, 1.e-06, 1.e-06, 1.e-06, 1.e-06,\n",
       "       1.e-06, 1.e-06, 1.e-06, 1.e-06, 1.e-06, 1.e-06, 1.e-06, 1.e-06,\n",
       "       1.e-06, 1.e-06, 1.e-06, 1.e-06, 1.e-06, 1.e-06, 1.e-06, 1.e-06,\n",
       "       1.e-06, 1.e-06, 1.e-06, 1.e-06, 1.e-06, 1.e-06, 1.e-06, 1.e-06,\n",
       "       1.e-06, 1.e-06, 1.e-06, 1.e-06, 1.e-06, 1.e-06, 1.e-06, 1.e-06,\n",
       "       1.e-06, 1.e-06, 1.e-06, 1.e-06, 1.e-06, 1.e-06, 1.e-06, 1.e-06,\n",
       "       1.e-06, 1.e-06, 1.e-06, 1.e-06, 1.e-06, 1.e-06, 1.e-06, 1.e-06,\n",
       "       1.e-06, 1.e-06, 1.e-06, 1.e-06, 1.e-06, 1.e-06, 1.e-06, 1.e-06,\n",
       "       1.e-06, 1.e-06, 1.e-06, 1.e-06, 1.e-06, 1.e-06, 1.e-06, 1.e-06,\n",
       "       1.e-06, 1.e-06, 1.e-06, 1.e-06, 1.e-06, 1.e-06, 1.e-06, 1.e-06,\n",
       "       1.e-06, 1.e-06, 1.e-06, 1.e-06, 1.e-06, 1.e-06, 1.e-06, 1.e-06,\n",
       "       1.e-06, 1.e-06, 1.e-06, 1.e-06, 1.e-06, 1.e-06, 1.e-06, 1.e-06,\n",
       "       1.e-06, 1.e-06, 1.e-06, 1.e-06, 1.e-06, 1.e-06, 1.e-06, 1.e-06,\n",
       "       1.e-06, 1.e-06, 1.e-06, 1.e-06, 1.e-06, 1.e-06, 1.e-06, 1.e-06,\n",
       "       1.e-06, 1.e-06, 1.e-06, 1.e-06, 1.e-06, 1.e-06, 1.e-06, 1.e-06,\n",
       "       1.e-06, 1.e-06, 1.e-06, 1.e-06, 1.e-06, 1.e-06, 1.e-06, 1.e-06,\n",
       "       1.e-06, 1.e-06, 1.e-06, 1.e-06, 1.e-06, 1.e-06, 1.e-06, 1.e-06,\n",
       "       1.e-06, 1.e-06, 1.e-06, 1.e-06, 1.e-06, 1.e-06, 1.e-06, 1.e-06,\n",
       "       1.e-06, 1.e-06, 1.e-06, 1.e-06, 1.e-06, 1.e-06, 1.e-06, 1.e-06,\n",
       "       1.e-06, 1.e-06, 1.e-06, 1.e-06, 1.e-06, 1.e-06, 1.e-06, 1.e-06,\n",
       "       1.e-06, 1.e-06, 1.e-06, 1.e-06, 1.e-06, 1.e-06, 1.e-06, 1.e-06,\n",
       "       1.e-06, 1.e-06, 1.e-06, 1.e-06, 1.e-06, 1.e-06, 1.e-06, 1.e-06,\n",
       "       1.e-06, 1.e-06, 1.e-06, 1.e-06, 1.e-06, 1.e-06, 1.e-06, 1.e-06,\n",
       "       1.e-06, 1.e-06, 1.e-06, 1.e-06, 1.e-06, 1.e-06, 1.e-06, 1.e-06,\n",
       "       1.e-06, 1.e-06, 1.e-06, 1.e-06, 1.e-06, 1.e-06, 1.e-06, 1.e-06,\n",
       "       1.e-06, 1.e-06, 1.e-06, 1.e-06, 1.e-06, 1.e-06, 1.e-06, 1.e-06,\n",
       "       1.e-06, 1.e-06, 1.e-06, 1.e-06, 1.e-06, 1.e-06, 1.e-06, 1.e-06,\n",
       "       1.e-06, 1.e-06, 1.e-06, 1.e-06, 1.e-06, 1.e-06, 1.e-06, 1.e-06,\n",
       "       1.e-06, 1.e-06, 1.e-06, 1.e-06, 1.e-06, 1.e-06, 1.e-06, 1.e-06,\n",
       "       1.e-06, 1.e-06, 1.e-06, 1.e-06, 1.e-06, 1.e-06, 1.e-06, 1.e-06,\n",
       "       1.e-06, 1.e-06, 1.e-06, 1.e-06, 1.e-06])"
      ]
     },
     "execution_count": 20,
     "metadata": {},
     "output_type": "execute_result"
    }
   ],
   "source": []
  },
  {
   "cell_type": "markdown",
   "id": "26d3dbdb",
   "metadata": {
    "id": "26d3dbdb"
   },
   "source": [
    "Plot the temperature model:"
   ]
  },
  {
   "cell_type": "code",
   "execution_count": 21,
   "id": "29077ecb",
   "metadata": {
    "colab": {
     "base_uri": "https://localhost:8080/",
     "height": 735
    },
    "executionInfo": {
     "elapsed": 2106,
     "status": "ok",
     "timestamp": 1732647604579,
     "user": {
      "displayName": "João Paulo de Souza Bueno",
      "userId": "07483061909957032656"
     },
     "user_tz": 180
    },
    "id": "29077ecb",
    "outputId": "bba21428-7924-4f23-b4b0-b5de77704f47"
   },
   "outputs": [
    {
     "name": "stderr",
     "output_type": "stream",
     "text": [
      "No artists with labels found to put in legend.  Note that artists whose label start with an underscore are ignored when legend() is called with no argument.\n"
     ]
    },
    {
     "data": {
      "image/png": "[encoded data removed]",
      "text/plain": [
       "<Figure size 1600x800 with 3 Axes>"
      ]
     },
     "metadata": {},
     "output_type": "display_data"
    }
   ],
   "source": [
    "fig2, (ax0, ax1) = plt.subplots(nrows=1, ncols=2, figsize=(16, 8))\n",
    "\n",
    "# Temperature field:\n",
    "im1 = ax0.contourf(\n",
    "    X / 1.0e3,\n",
    "    (Z - t_sa) / 1.0e3,\n",
    "    temp_z,\n",
    "    levels=np.arange(0, 1401, 100)\n",
    "    )\n",
    "\n",
    "ax0.set_ylim((Lz-t_sa) / 1.0e3, -t_sa / 1e3)\n",
    "ax0.set_ylabel(\"Depth [km]\")\n",
    "ax0.set_xlabel(\"x [km]\")\n",
    "cbar = fig2.colorbar(im1, orientation='horizontal', ax=ax0)\n",
    "cbar.set_label(\"Temperature [°C]\")\n",
    "\n",
    "# Profile:\n",
    "ax1.set_title(\"Thermal profile [°C]\")\n",
    "ax1.plot(temp_z[:, 0], (z - t_sa) / 1.0e3, \"-k\")\n",
    "# Add interfaces:\n",
    "'''\n",
    "code = 0\n",
    "for label in list(interfaces.keys()):\n",
    "    code += 1\n",
    "    color = \"C\" + str(code)\n",
    "    ax1.hlines(\n",
    "        (interfaces[label][0] - t_sa) / 1.0e3,\n",
    "        np.min(temp_z[:, 0]),\n",
    "        np.max(temp_z[:, 0]),\n",
    "        label=f\"{label}\",\n",
    "        color=color,\n",
    "    )\n",
    "'''\n",
    "ax1.set_ylim((Lz-t_sa) / 1.0e3, -t_sa / 1e3)\n",
    "ax1.set_xlabel(\"Temperature [°C]\")\n",
    "ax1.set_ylabel(\"Depth [km]\")\n",
    "\n",
    "plt.legend(loc=\"lower left\")\n",
    "plt.show()\n"
   ]
  },
  {
   "cell_type": "markdown",
   "id": "266778e7",
   "metadata": {
    "id": "266778e7"
   },
   "source": [
    "### Boundary condition - Velocity\n",
    "\n",
    "The horizontal velocity field along the left and right borders of the domain presents two layers:\n",
    "* Constant velocity with depth at $0 ≤ z < h_c$\n",
    "* Linearly variable velocity with depth at $h_c ≤ z ≤ h_c + h_a$\n",
    "\n",
    "where $h_c = 150$ km is the thickness of the upper layer with constant velocity, corresponding to the lithosphere $h_{litho} = 130$ km and part of the asthenosphere, and $h_a = 110$ km corresponds to the remaining asthenospheric portion of the model until the bottom\n",
    "of the model, where the horizontal velocity at the borders of the model varies linearly with depth.\n",
    "Therefore, the sum $h_c + h_a$ represents the total thickness of the model without the “sticky air” layer."
   ]
  },
  {
   "cell_type": "code",
   "execution_count": 22,
   "id": "3fc2cdfa",
   "metadata": {
    "id": "3fc2cdfa"
   },
   "outputs": [],
   "source": [
    "# Convert 1 cm/year to m/s:\n",
    "v_rift = 2e-2 / (365 * 24 * 3600)\n",
    "\n",
    "# Define the thickness with constant velocity in meters\n",
    "h_c = 150.0e3\n",
    "\n",
    "t_a = Lz - t_sa - h_c\n",
    "\n",
    "v = v_rift * (Lz - t_sa) / t_a\n",
    "\n",
    "fac_air = 10.0e3"
   ]
  },
  {
   "cell_type": "code",
   "execution_count": 23,
   "id": "8a5a0709",
   "metadata": {
    "id": "8a5a0709",
    "tags": []
   },
   "outputs": [],
   "source": [
    "# Create  horizontal and vertical velocity:\n",
    "VX, VZ = np.zeros_like(X), np.zeros_like(X)"
   ]
  },
  {
   "cell_type": "markdown",
   "id": "e0f7528f",
   "metadata": {
    "id": "e0f7528f"
   },
   "source": [
    "Velocity for the left side (`x == 0`):"
   ]
  },
  {
   "cell_type": "code",
   "execution_count": 24,
   "id": "8912a22d",
   "metadata": {
    "id": "8912a22d"
   },
   "outputs": [],
   "source": [
    "# When 0 <= z <= (h_v_const + thickness_sa), VX is zero.\n",
    "# When (h_v_const * thickness_sa) <= z <= Lz, VX goes from 0 to vR.\n",
    "cond = (Z >= h_c + t_sa) & (X == 0)\n",
    "VX[cond] += v * (Z[cond] - h_c - t_sa) / t_a"
   ]
  },
  {
   "cell_type": "markdown",
   "id": "3eb01a2c",
   "metadata": {
    "id": "3eb01a2c"
   },
   "source": [
    "Velocity for the right side (`x == Lx`):"
   ]
  },
  {
   "cell_type": "code",
   "execution_count": 25,
   "id": "e5d08cb2",
   "metadata": {
    "id": "e5d08cb2"
   },
   "outputs": [],
   "source": [
    "cond = (X == Lx) & (Z <= h_c + t_sa)\n",
    "VX[cond] += v_rift\n",
    "\n",
    "# When 0 <= z <= (h_v_const + thickness_sa), VX is 2vL\n",
    "# When (h_v_const + thickness_sa) < z <= Lz, VX goes from 2vL to -vR + 2vL\n",
    "cond = (Z > h_c + t_sa) & (X == Lx)\n",
    "VX[cond] += -v * (Z[cond] - h_c - t_sa) / t_a + v_rift\n",
    "\n",
    "\n",
    "VX[Z <= t_sa - fac_air] = 0"
   ]
  },
  {
   "cell_type": "markdown",
   "id": "8950c6f3",
   "metadata": {
    "id": "8950c6f3"
   },
   "source": [
    "Due to the mass conservation is assumed, the sum of the integrals over the boundaries (material flow) must be zero."
   ]
  },
  {
   "cell_type": "code",
   "execution_count": 26,
   "id": "cbe7a8ee",
   "metadata": {
    "colab": {
     "base_uri": "https://localhost:8080/"
    },
    "executionInfo": {
     "elapsed": 10,
     "status": "ok",
     "timestamp": 1732647604583,
     "user": {
      "displayName": "João Paulo de Souza Bueno",
      "userId": "07483061909957032656"
     },
     "user_tz": 180
    },
    "id": "cbe7a8ee",
    "outputId": "a203041b-4db9-42d7-cfed-aae0911d8617"
   },
   "outputs": [
    {
     "name": "stdout",
     "output_type": "stream",
     "text": [
      "Sum of the integrals over the boundary is: 6.024860476915268e-06\n"
     ]
    }
   ],
   "source": [
    "# For the left side:\n",
    "v0= VX[(X == 0)]\n",
    "sum_velocity_left = np.sum(v0[1:-1]) + (v0[0] + v0[-1]) / 2.0\n",
    "\n",
    "# For the right side:\n",
    "vf = VX[(X == Lx)]\n",
    "sum_velocity_right = np.sum(vf[1:-1]) + (vf[0] + vf[-1]) / 2.0\n",
    "\n",
    "dz = Lz / (Nz - 1)\n",
    "diff = (sum_velocity_right - sum_velocity_left) * dz\n",
    "\n",
    "print(\"Sum of the integrals over the boundary is:\", diff)\n"
   ]
  },
  {
   "cell_type": "markdown",
   "id": "5ec5918f",
   "metadata": {
    "id": "5ec5918f"
   },
   "source": [
    "If the sum of the integrals over the boundaries is not zero, because rounding errors, we add a very small flow on the top to compensate this difference.\n",
    "In fact this is a very small correction."
   ]
  },
  {
   "cell_type": "code",
   "execution_count": 27,
   "id": "a31719cf",
   "metadata": {
    "id": "a31719cf"
   },
   "outputs": [],
   "source": [
    "vv = -diff / Lx\n",
    "\n",
    "VZ[Z == 0] = vv"
   ]
  },
  {
   "cell_type": "markdown",
   "id": "4bfa6c0e",
   "metadata": {
    "id": "4bfa6c0e"
   },
   "source": [
    "Create and save the initial velocity file:"
   ]
  },
  {
   "cell_type": "code",
   "execution_count": 28,
   "id": "a35a5be3",
   "metadata": {
    "id": "a35a5be3"
   },
   "outputs": [],
   "source": [
    "VVX = np.copy(np.reshape(VX, Nx * Nz))\n",
    "VVZ = np.copy(np.reshape(VZ, Nx * Nz))\n",
    "\n",
    "velocity = np.zeros((2, Nx * Nz))\n",
    "\n",
    "velocity[0, :] = VVX\n",
    "velocity[1, :] = VVZ\n",
    "\n",
    "velocity = np.reshape(velocity.T, (np.size(velocity)))\n",
    "\n",
    "np.savetxt(\"input_velocity_0.txt\", velocity, header=\"v1\\nv2\\nv3\\nv4\")"
   ]
  },
  {
   "cell_type": "markdown",
   "id": "28523911",
   "metadata": {
    "id": "28523911"
   },
   "source": [
    "Plot the velocity profile for the boundaries:"
   ]
  },
  {
   "cell_type": "code",
   "execution_count": 29,
   "id": "22d15fab",
   "metadata": {
    "colab": {
     "base_uri": "https://localhost:8080/",
     "height": 795
    },
    "executionInfo": {
     "elapsed": 959,
     "status": "ok",
     "timestamp": 1732647607865,
     "user": {
      "displayName": "João Paulo de Souza Bueno",
      "userId": "07483061909957032656"
     },
     "user_tz": 180
    },
    "id": "22d15fab",
    "outputId": "98367b8a-27af-41ff-a21e-2eb2667b2833"
   },
   "outputs": [
    {
     "data": {
      "image/png": "[encoded data removed]",
      "text/plain": [
       "<Figure size 900x900 with 2 Axes>"
      ]
     },
     "metadata": {},
     "output_type": "display_data"
    }
   ],
   "source": [
    "fig, (ax0, ax1) = plt.subplots(nrows=1, ncols=2, figsize=(9, 9), sharey=True)\n",
    "\n",
    "ax0.plot(VX[:, 0]* (100*365 * 24 * 3600), (z) / 1e3, \"k-\", label=\"left side\")\n",
    "ax1.plot(VZ[:, 0]* (100*365 * 24 * 3600), (z) / 1e3, \"k-\", label=\"left side\")\n",
    "\n",
    "ax0.plot(VX[:, -1]* (100*365 * 24 * 3600), (z ) / 1e3, \"r-\", label=\"right side\")\n",
    "ax1.plot(VZ[:, -1]* (100*365 * 24 * 3600), (z) / 1e3, \"r-\", label=\"right side\")\n",
    "\n",
    "ax0.legend()\n",
    "ax1.legend()\n",
    "\n",
    "ax0_xlim = ax0.get_xlim()\n",
    "ax1_xlim = ax1.get_xlim()\n",
    "\n",
    "ax0.set_yticks(np.arange(-40, Lz / 1e3, 10))\n",
    "#ax1.set_yticks(np.arange(0, Lz / 1000, 20))\n",
    "\n",
    "ax0.set_ylim([Lz / 1e3 , 0])\n",
    "\n",
    "\n",
    "#ax0.set_xlim([-8e-10, 8e-10])\n",
    "#ax1.set_xlim([-8e-10, 8e-10])\n",
    "\n",
    "ax0.set_xlabel(\" Velocity [cm/y]\")\n",
    "ax1.set_xlabel(\" Velocity [cm/y]\")\n",
    "ax0.set_ylabel(\"Depth [km]\")\n",
    "\n",
    "ax0.set_title(\"Horizontal component of velocity\")\n",
    "ax1.set_title(\"Vertical component of velocity\")\n",
    "\n",
    "plt.show()"
   ]
  },
  {
   "cell_type": "markdown",
   "id": "f634ed64",
   "metadata": {
    "id": "f634ed64",
    "tags": []
   },
   "source": [
    "### Create the parameter file"
   ]
  },
  {
   "cell_type": "code",
   "execution_count": 30,
   "id": "SvoBJ2DsmoEy",
   "metadata": {
    "colab": {
     "base_uri": "https://localhost:8080/"
    },
    "executionInfo": {
     "elapsed": 9,
     "status": "ok",
     "timestamp": 1732647607867,
     "user": {
      "displayName": "João Paulo de Souza Bueno",
      "userId": "07483061909957032656"
     },
     "user_tz": 180
    },
    "id": "SvoBJ2DsmoEy",
    "outputId": "6023bff6-1f73-4b27-c76e-8b2ca234c4bd"
   },
   "outputs": [
    {
     "name": "stdout",
     "output_type": "stream",
     "text": [
      "kc_0_7_40_2.0_ml_vc\n"
     ]
    }
   ],
   "source": [
    "#variaveis para o nome do cenarios\n",
    "#kappa _ esp. sal _ esp. sed. _ base crustal _ vel. _ multicamadas\n",
    "\n",
    "kpn = 'kc' if kappa_cte else 'kv' #kc = kappa constante; kv = kappa variavel\n",
    "t_crustn = t_lower_crust + t_upper_crust + t_salt + t_sed\n",
    "cen = f'{kpn}_{int(t_salt/1e3)}_{int(t_sed/1e3)}_{int(t_crustn/1e3)}_{np.round(v_rift*(100*365 * 24 * 3600),1)}_ml_vc'  #ml = multilayer ; vc = velocidade constante\n",
    "print(cen)"
   ]
  },
  {
   "cell_type": "code",
   "execution_count": null,
   "id": "4f737d5a-7099-4581-a6fa-67b3ad7ad7b3",
   "metadata": {},
   "outputs": [],
   "source": []
  },
  {
   "cell_type": "code",
   "execution_count": 41,
   "id": "b5474db8-f8cd-439c-b1aa-80367f40d117",
   "metadata": {},
   "outputs": [],
   "source": [
    "Q = np.zeros_like(z)\n",
    "A = np.zeros_like(z)\n",
    "n = np.zeros_like(z)\n",
    "V = np.zeros_like(z)\n",
    "C = np.zeros_like(z)\n",
    "rho = np.zeros_like(z)\n",
    "phi0 = np.zeros_like(z)\n",
    "c0 = np.zeros_like(z)\n",
    "\n",
    "vars = [C,rho,A,n,Q,V,c0,phi0]\n",
    "varix = [0,1,3,4,5,6,10,12] #[0,1,3,4,5,6,10,12] : sedimento\n",
    "zaux = z - 40*1e3\n",
    "\n",
    "z_sed = (zaux>=0) & (zaux<t_sed)\n",
    "z_uc = (zaux>=t_sed) & (zaux<t_sed+t_upper_crust)\n",
    "z_lc = (zaux>=t_sed+t_upper_crust) & (zaux<t_sed+t_upper_crust+t_lower_crust)\n",
    "z_lm = (zaux>=t_sed+t_upper_crust+t_lower_crust) & (zaux<=t_litho)\n",
    "z_ast = zaux>t_litho\n",
    "\n",
    "#s/ sedimentos\n",
    "\n",
    "\n",
    "if t_sed>0:\n",
    "    conds = [z_sed,z_uc,z_lc,z_lm,z_ast]\n",
    "    layervar = [13,5,4,3,0]\n",
    "else:\n",
    "    conds = [z_uc,z_lc,z_lm,z_ast]\n",
    "    layervar = [5,4,3,0]\n",
    "\n",
    "\n",
    "for i in range(len(layervar)):\n",
    "    lv = layervar[i]\n",
    "    cond = conds[i]\n",
    "\n",
    "    for j in range(len(vars)):\n",
    "        v=vars[j]\n",
    "        vix = varix[j]\n",
    "        v[cond]=dfparams.iloc[lv,vix]"
   ]
  },
  {
   "cell_type": "code",
   "execution_count": 42,
   "id": "6zpB0GI7DQYI",
   "metadata": {
    "colab": {
     "base_uri": "https://localhost:8080/",
     "height": 742
    },
    "executionInfo": {
     "elapsed": 1423,
     "status": "ok",
     "timestamp": 1732647609282,
     "user": {
      "displayName": "João Paulo de Souza Bueno",
      "userId": "07483061909957032656"
     },
     "user_tz": 180
    },
    "id": "6zpB0GI7DQYI",
    "outputId": "10ed8f4c-d4bb-42a8-9552-0b17d77888b8"
   },
   "outputs": [
    {
     "name": "stderr",
     "output_type": "stream",
     "text": [
      "/tmp/ipykernel_29183/1792970872.py:105: RuntimeWarning: divide by zero encountered in divide\n",
      "  visc = C * A**(-1./n) * sr**((1.0-n)/n)*np.exp((Q + V*P)/(n*R*TK))\n",
      "/tmp/ipykernel_29183/1792970872.py:105: RuntimeWarning: invalid value encountered in multiply\n",
      "  visc = C * A**(-1./n) * sr**((1.0-n)/n)*np.exp((Q + V*P)/(n*R*TK))\n",
      "/tmp/ipykernel_29183/1792970872.py:105: RuntimeWarning: invalid value encountered in divide\n",
      "  visc = C * A**(-1./n) * sr**((1.0-n)/n)*np.exp((Q + V*P)/(n*R*TK))\n"
     ]
    },
    {
     "data": {
      "image/png": "[encoded data removed]",
      "text/plain": [
       "<Figure size 1600x800 with 1 Axes>"
      ]
     },
     "metadata": {},
     "output_type": "display_data"
    }
   ],
   "source": [
    "fig, ax = plt.subplots(figsize=(16, 8))\n",
    "ylimplot = [(-Lz+t_sa) / 1e3, 0 + t_sa / 1e3]\n",
    "\n",
    "#Basin Zoom\n",
    "x1, x2, y1, y2 = (Lx/1e3)//3-50, (Lx/1e3)//3+50, -10, 5\n",
    "axins = ax.inset_axes(\n",
    "    [0.15, 0.05, 0.4, 0.2],\n",
    "    xlim=(x1, x2), ylim=(y1, y2), xticks=[])\n",
    "\n",
    "\n",
    "\n",
    "for ll in list(interfaces.items())[::-1]:\n",
    "    label, layer = ll[0], ll[1]\n",
    "    if 'seed' in label:\n",
    "        continue\n",
    "\n",
    "\n",
    "    if ('sed' in label) and (label!='sed0'):\n",
    "        label='air'\n",
    "        continue\n",
    "\n",
    "\n",
    "\n",
    "\n",
    "    ax.fill_between(x/1e3, (-layer + t_sa) / 1e3, -Lz/1e3,color=colors[label],label=correct_labels[label])\n",
    "    axins.fill_between(x/1e3, (-layer + t_sa) / 1e3, -Lz/1e3,color=colors[label],label=correct_labels[label])\n",
    "\n",
    "ax.set_yticks(np.arange(-Lz / 1e3, 1 / 1e3, 25))\n",
    "ax.set_xlim([0, Lx/1000])\n",
    "\n",
    "ax.set_ylim(ylimplot)\n",
    "\n",
    "ax.set_xlabel(\"x [km]\")\n",
    "ax.set_ylabel(\"Depth [km]\")\n",
    "\n",
    "#plt.title(\"Interfaces\")\n",
    "\n",
    "\n",
    "#Velocity = Right side\n",
    "vr_plot = max(abs(VX[:, -1]* (100*365 * 24 * 3600)))\n",
    "fac = 0.96\n",
    "axl = ax.inset_axes((fac,0,(1-fac)*2,1))\n",
    "axl.fill_betweenx((-z + t_sa) / 1.0e3, VX[:, -1]* (100*365 * 24 * 3600), 0, color=None, facecolor=None, hatch='---',alpha=0)\n",
    "axl.set_ylim(ylimplot)\n",
    "axl.set_yticks([])\n",
    "axl.set_xticks(np.round([-2, 2],1))\n",
    "axl.patch.set_alpha(0)\n",
    "axl.set_title('cm/y')\n",
    "axl.xaxis.set_ticks_position('top')\n",
    "#axl.tick_params(labelbottom=False,labeltop=True)\n",
    "axl.set_xlim([-vr_plot, vr_plot])\n",
    "axl.spines['left'].set_visible(False)\n",
    "axl.spines['right'].set_visible(False)\n",
    "axl.spines['bottom'].set_visible(False)\n",
    "\n",
    "\n",
    "#Velocity = Left side\n",
    "vr_plot = max(abs(VX[:, 0]* (100*365 * 24 * 3600)))\n",
    "axr = ax.inset_axes((0,0,(1-fac)*2,1))\n",
    "axr.fill_betweenx((-z + t_sa) / 1.0e3, VX[:, 0]* (100*365 * 24 * 3600), 0, color=None, facecolor=None, hatch='---',alpha=0)\n",
    "axr.set_ylim(ylimplot)\n",
    "axr.set_yticks([])\n",
    "axr.set_xticks(np.round([-0, 2, 4],1))\n",
    "axr.patch.set_alpha(0)\n",
    "#axr.set_title('cm/y')\n",
    "axr.xaxis.set_ticks_position('top')\n",
    "#axr.tick_params(labelbottom=False,labeltop=True)\n",
    "axr.set_xlim([0, vr_plot])\n",
    "axr.spines['left'].set_visible(False)\n",
    "axr.spines['right'].set_visible(False)\n",
    "axr.spines['bottom'].set_visible(False)\n",
    "\n",
    "#Temperature\n",
    "axt = ax.inset_axes((3.5/5,0,0.2,1))\n",
    "axt.plot(temp_z[:, 0], -(z - t_sa) / 1.0e3, \"-r\")\n",
    "axt.grid(visible=True, axis='x',which='both',ls='--',color='red',alpha=0.3)\n",
    "axt.set_ylim(ylimplot)\n",
    "axt.set_yticks([])\n",
    "axt.set_xticks(np.linspace(0,1200,5))\n",
    "axt.patch.set_alpha(0)\n",
    "axt.xaxis.set_ticks_position('top')\n",
    "axt.set_yticks([])\n",
    "axt.xaxis.label.set_color('red')\n",
    "axt.tick_params(axis='x', colors='red')\n",
    "axt.spines['left'].set_visible(False)\n",
    "axt.spines['right'].set_visible(False)\n",
    "axt.set_title('Temp °C',color='red')\n",
    "#axt.spines['bottom'].set_visible(False)\n",
    "\n",
    "\n",
    "#Weak seed\n",
    "#seeds_coords = [[x_seed, sed_x_seed],[seed_depth+t_lower_crust+t_upper_crust,sed_seed_depth]] #mantle seed, sed seed\n",
    "seeds_coords_plot = np.array(seeds_coords)/1e3\n",
    "ax.plot(seeds_coords_plot[0],-seeds_coords_plot[1]+ t_sa/1e3,'kx',label='weak seeds')\n",
    "axins.plot(seeds_coords_plot[0],-seeds_coords_plot[1]+ t_sa/1e3,'kx',label='weak seeds')\n",
    "\n",
    "\n",
    "#yield strength envelope\n",
    "sr = 1.0E-15 #strain rate - s-1\n",
    "R = 8.314 #gas constant - J K−1 mol−1\n",
    "P = rho[::-1].cumsum()[::-1]*-g*dz\n",
    "sigma_max = c0 * np.cos(phi0*np.pi/180) + P * np.sin(phi0*np.pi/180)\n",
    "sigma_min = c0 * np.cos(2*np.pi/180) + P * np.sin(2*np.pi/180)\n",
    "TK = temp_z[:, 0] + 273\n",
    "visc = C * A**(-1./n) * sr**((1.0-n)/n)*np.exp((Q + V*P)/(n*R*TK))\n",
    "sigma_v = visc * sr\n",
    "cond = sigma_v>sigma_max\n",
    "sigma_v[cond]=sigma_max[cond]\n",
    "\n",
    "axsg = ax.inset_axes((2.8/5,0,0.1,1))\n",
    "axsg.plot(sigma_v/1e9,-(z-t_sa)/1e3,'k')\n",
    "axsg.plot(sigma_min/1e9,-(z-t_sa)/1e3,'k--',lw=0.8)\n",
    "axsg.grid(visible=True, axis='x',which='both',ls='--',color='gray',alpha=0.8)\n",
    "axsg.set_xticks([0,0.25,0.5])\n",
    "axsg.set_xlim(-0.1,0.51)\n",
    "axsg.set_ylim(ylimplot)\n",
    "axsg.set_yticks([])\n",
    "axsg.patch.set_alpha(0)\n",
    "axsg.xaxis.set_ticks_position('top')\n",
    "axsg.spines['left'].set_visible(False)\n",
    "axsg.spines['right'].set_visible(False)\n",
    "axsg.set_title('$\\sigma_{YSE}$ (GPa)')\n",
    "\n",
    "ax.indicate_inset_zoom(axins, edgecolor=\"grey\")\n",
    "plt.legend(loc='upper left',shadow=True)\n",
    "\n",
    "plt.tight_layout()\n",
    "plt.show()\n",
    "fig.savefig(f'interfaces.svg',dpi=300)\n",
    "fig.savefig(f'interfaces.png',dpi=300)"
   ]
  },
  {
   "cell_type": "code",
   "execution_count": 46,
   "id": "06050ef0-d2b6-49c0-ba64-eab0d8d504ca",
   "metadata": {},
   "outputs": [
    {
     "data": {
      "text/plain": [
       "[<matplotlib.lines.Line2D at 0x7f7d628b69d0>]"
      ]
     },
     "execution_count": 46,
     "metadata": {},
     "output_type": "execute_result"
    },
    {
     "data": {
      "image/png": "[encoded data removed]",
      "text/plain": [
       "<Figure size 640x480 with 1 Axes>"
      ]
     },
     "metadata": {},
     "output_type": "display_data"
    }
   ],
   "source": [
    "plt.plot(sigma_v/1e9,-(z-t_sa)/1e3,'k')\n",
    "plt.plot(sigma_min/1e9,-(z-t_sa)/1e3,'k--',lw=0.8)\n",
    "plt.plot(sigma_max/1.0E9,-(z-t_sa)/1e3,\"r--\",lw=0.8)"
   ]
  },
  {
   "cell_type": "code",
   "execution_count": 35,
   "id": "02cc7c66",
   "metadata": {
    "id": "02cc7c66",
    "tags": []
   },
   "outputs": [],
   "source": [
    "params = f\"\"\"\n",
    "nx = {Nx}\n",
    "nz = {Nz}\n",
    "lx = {Lx}\n",
    "lz = {Lz}\n",
    "\n",
    "\n",
    "# Simulation options\n",
    "multigrid                           = 1             # ok -> soon to be on the command line only\n",
    "solver                              = direct        # default is direct [direct/iterative]\n",
    "denok                               = 5.0e-15       # default is 1.0E-4\n",
    "particles_per_element               = 61            # default is 81\n",
    "particles_perturb_factor            = 0.7           # default is 0.5 [values are between 0 and 1]\n",
    "rtol                                = 1.0e-7        # the absolute size of the residual norm (relevant only for iterative methods), default is 1.0E-5\n",
    "RK4                                 = Euler         # default is Euler [Euler/Runge-Kutta]\n",
    "Xi_min                              = 1.0e-6        # default is 1.0E-14\n",
    "random_initial_strain               = 0.3           # default is 0.0\n",
    "pressure_const                      = -1.0          # default is -1.0 (not used) - useful only in horizontal 2D models\n",
    "initial_dynamic_range               = True          # default is False [True/False]\n",
    "periodic_boundary                   = False         # default is False [True/False]\n",
    "high_kappa_in_asthenosphere         = True          # default is False [True/False]\n",
    "K_fluvial                           = 2.0e-7        # default is 2.0E-7\n",
    "m_fluvial                           = 1.0           # default is 1.0\n",
    "sea_level                           = 0.0           # default is 0.0\n",
    "basal_heat                          = 0.0           # default is -1.0\n",
    "\n",
    "# Surface processes\n",
    "sp_surface_tracking                 = False          # default is False [True/False]\n",
    "sp_surface_processes                = False         # default is False [True/False]\n",
    "#sp_dt                               = 1.0e5         # default is 0.0  -No longer supported\n",
    "sp_d_c                              = 1.0           # default is 0.0\n",
    "plot_sediment                       = False         # default is False [True/False]\n",
    "a2l                                 = True          # default is True [True/False]\n",
    "\n",
    "free_surface_stab                   = True          # default is True [True/False]\n",
    "theta_FSSA                          = 0.5           # default is 0.5 (only relevant when free_surface_stab = True)\n",
    "\n",
    "# Time constrains\n",
    "step_max                            = 15000         # Maximum time-step of the simulation\n",
    "time_max                            = 50.0e6        # Maximum time of the simulation [years]\n",
    "dt_max                              = 10.0e3         # Maximum time between steps of the simulation [years]\n",
    "step_print                          = 50            # Make file every <step_print>\n",
    "sub_division_time_step              = 0.5           # default is 1.0\n",
    "initial_print_step                  = 0             # default is 0\n",
    "initial_print_max_time              = 1.0e6         # default is 1.0E6 [years]\n",
    "\n",
    "# Viscosity\n",
    "viscosity_reference                 = 1.0e26        # Reference viscosity [Pa.s]\n",
    "viscosity_max                       = 1.0e25        # Maximum viscosity [Pa.s]\n",
    "viscosity_min                       = 1.0e18        # Minimum viscosity [Pa.s]\n",
    "viscosity_per_element               = constant      # default is variable [constant/variable]\n",
    "viscosity_mean_method               = arithmetic    # default is harmonic [harmonic/arithmetic]\n",
    "viscosity_dependence                = pressure      # default is depth [pressure/depth]\n",
    "\n",
    "# External ASCII inputs/outputs\n",
    "interfaces_from_ascii               = True          # default is False [True/False]\n",
    "n_interfaces                        = {len(interfaces.keys())}          # Number of interfaces int the interfaces.txt file\n",
    "variable_bcv                        = False         # default is False [True/False]\n",
    "temperature_from_ascii              = True          # default is False [True/False]\n",
    "velocity_from_ascii                 = True          # default is False [True/False]\n",
    "binary_output                       = False         # default is False [True/False]\n",
    "sticky_blanket_air                  = True          # default is False [True/False]\n",
    "#precipitation_profile_from_ascii    = False         # default is False [True/False]  -No longer supported\n",
    "#climate_change_from_ascii           = False         # default is False [True/False]  -No longer supported\n",
    "\n",
    "\n",
    "print_step_files                    = False          # default is True [True/False]\n",
    "checkered                           = True          # Print mora than one element in the print_step_files (default is False [True/False])\n",
    "\n",
    "sp_mode                             = 5             # default is 1 [0/1/2]\n",
    "\n",
    "geoq                                = on            # ok\n",
    "geoq_fac                            = 100.0         # ok\n",
    "\n",
    "# Physical parameters\n",
    "temperature_difference              = 1500.         # ok\n",
    "thermal_expansion_coefficient       = 3.28e-5       # ok\n",
    "thermal_diffusivity_coefficient     = 1.0e-6        # ok\n",
    "gravity_acceleration                = 10.0          # ok\n",
    "density_mantle                      = 3300.         # ok\n",
    "external_heat                       = 0.0e-12       # ok\n",
    "heat_capacity                       = 1250.         # ok\n",
    "\n",
    "non_linear_method                   = on            # ok\n",
    "adiabatic_component                 = on            # ok\n",
    "radiogenic_component                = on            # ok\n",
    "\n",
    "# Velocity boundary conditions\n",
    "top_normal_velocity                 = fixed         # ok\n",
    "top_tangential_velocity             = free          # ok\n",
    "bot_normal_velocity                 = fixed         # ok\n",
    "bot_tangential_velocity             = free          # ok\n",
    "left_normal_velocity                = fixed         # ok\n",
    "left_tangential_velocity            = fixed         # ok\n",
    "right_normal_velocity               = fixed         # ok\n",
    "right_tangential_velocity           = fixed         # ok\n",
    "\n",
    "surface_velocity                    = 0.0e-2        # ok\n",
    "multi_velocity                      = False         # default is False [True/False]\n",
    "\n",
    "# Temperature boundary conditions\n",
    "top_temperature                     = fixed         # ok\n",
    "bot_temperature                     = fixed         # ok\n",
    "left_temperature                    = free         # ok - set free to variable diffusivity\n",
    "right_temperature                   = free         # ok\n",
    "\n",
    "rheology_model                      = 9             # ok\n",
    "T_initial                           = 3             # ok\n",
    "\n",
    "\"\"\"\n",
    "# Create the parameter file\n",
    "with open(\"param.txt\", \"w\") as f:\n",
    "    for line in params.split(\"\\n\"):\n",
    "        f.write(\" \".join(line.split()) + \"\\n\")\n",
    "\n",
    "\n"
   ]
  },
  {
   "cell_type": "code",
   "execution_count": 36,
   "id": "5mPduX-l523a",
   "metadata": {
    "colab": {
     "base_uri": "https://localhost:8080/",
     "height": 105
    },
    "executionInfo": {
     "elapsed": 11,
     "status": "ok",
     "timestamp": 1732647609284,
     "user": {
      "displayName": "João Paulo de Souza Bueno",
      "userId": "07483061909957032656"
     },
     "user_tz": 180
    },
    "id": "5mPduX-l523a",
    "outputId": "80289173-6e33-41f0-f181-9d4b07770ad6"
   },
   "outputs": [
    {
     "data": {
      "text/plain": [
       "'\\n#!/bin/bash -v\\n#SBATCH --partition=SP3\\n#SBATCH --job-name=mandyocsalt+rift28 # Job name\\n#SBATCH --mail-type=BEGIN,END,FAIL # Mail events (NONE, BEGIN, END, FAIL, ALL)\\n#SBATCH --mail-user=jbueno@usp.br # Where to send mail\\n#SBATCH --nodes=5 # Run all processes on a single node\\n#SBATCH --ntasks=5 # Run a single task\\n#SBATCH --cpus-per-task=20 # Number of CPU cores per task\\n#SBATCH --time=8- # DD-HH:MM:SS # 16 horas; “2-” para 2 dias; máximo “8-”\\n#SBATCH --output=salt+rift28_%j.log # Standard output and error log\\n\\necho $SLURM_JOB_ID # ID of job allocation\\necho $SLURM_SUBMIT_DIR # Directory job where was submitted\\necho $SLURM_JOB_NODELIST # File containing allocated hostnames\\necho $SLURM_NTASKS # Total number of cores for job\\n\\nsource /scratch/intel/oneapi/setvars.sh\\nsource /scratch/intel/oneapi/mkl/2022.1.0/env/vars.sh\\n\\nmodule unload openmpi\\n'"
      ]
     },
     "execution_count": 36,
     "metadata": {},
     "output_type": "execute_result"
    }
   ],
   "source": [
    "'''\n",
    "#!/bin/bash -v\n",
    "#SBATCH --partition=SP3\n",
    "#SBATCH --job-name=mandyocsalt+rift28 # Job name\n",
    "#SBATCH --mail-type=BEGIN,END,FAIL # Mail events (NONE, BEGIN, END, FAIL, ALL)\n",
    "#SBATCH --mail-user=jbueno@usp.br # Where to send mail\n",
    "#SBATCH --nodes=5 # Run all processes on a single node\n",
    "#SBATCH --ntasks=5 # Run a single task\n",
    "#SBATCH --cpus-per-task=20 # Number of CPU cores per task\n",
    "#SBATCH --time=8- # DD-HH:MM:SS # 16 horas; “2-” para 2 dias; máximo “8-”\n",
    "#SBATCH --output=salt+rift28_%j.log # Standard output and error log\n",
    "\n",
    "echo $SLURM_JOB_ID # ID of job allocation\n",
    "echo $SLURM_SUBMIT_DIR # Directory job where was submitted\n",
    "echo $SLURM_JOB_NODELIST # File containing allocated hostnames\n",
    "echo $SLURM_NTASKS # Total number of cores for job\n",
    "\n",
    "source /scratch/intel/oneapi/setvars.sh\n",
    "source /scratch/intel/oneapi/mkl/2022.1.0/env/vars.sh\n",
    "\n",
    "module unload openmpi\n",
    "'''"
   ]
  },
  {
   "cell_type": "code",
   "execution_count": 37,
   "id": "XnYnzYsBlZUF",
   "metadata": {
    "colab": {
     "base_uri": "https://localhost:8080/"
    },
    "executionInfo": {
     "elapsed": 9,
     "status": "ok",
     "timestamp": 1732647609284,
     "user": {
      "displayName": "João Paulo de Souza Bueno",
      "userId": "07483061909957032656"
     },
     "user_tz": 180
    },
    "id": "XnYnzYsBlZUF",
    "outputId": "7fd3a075-63a7-427c-acdc-c6c9c6ff6361"
   },
   "outputs": [
    {
     "name": "stdout",
     "output_type": "stream",
     "text": [
      "#!/bin/bash -v\n",
      "#SBATCH --partition=SP2\n",
      "#SBATCH --job-name=mandyoc-kc_0_7_40_2.0_ml_vc\t  # Job name\n",
      "#SBATCH --mail-type=BEGIN,END,FAIL    \t# Mail events (NONE, BEGIN, END, FAIL, ALL)\n",
      "#SBATCH --mail-user=jbueno@usp.br     \t# Where to send mail\n",
      "#SBATCH --nodes=1                       # Run all processes on a single node\n",
      "#SBATCH --ntasks=16              # Run a single task\n",
      "#SBATCH --cpus-per-task=1               # Number of CPU cores per task\n",
      "#SBATCH --time=8-                       # DD-HH:MM:SS   # 16 horas; “2-” para 2 dias; máximo “8-”\n",
      "#SBATCH --output=kc_0_7_40_2.0_ml_vc_%j.log     # Standard output and error log\n",
      "\n",
      "#source /scratch/intel/oneapi/setvars.sh\n",
      "#source /scratch/intel/oneapi/mkl/2022.1.0/env/vars.sh\n",
      "\n",
      "echo $SLURM_JOB_ID \t\t\t# ID of job allocation\n",
      "echo $SLURM_SUBMIT_DIR \t\t\t# Directory job where was submitted\n",
      "echo $SLURM_JOB_NODELIST \t\t# File containing allocated hostnames\n",
      "echo $SLURM_NTASKS \t\t\t# Total number of cores for job\n",
      "\n",
      "\n",
      "\n",
      "module unload openmpi\n",
      "\n",
      "PETSC_DIR=/temporario2/10328088/petsc\n",
      "PETSC_ARCH=v3.15.5-optimized\n",
      "\n",
      "MANDYOC=/temporario2/10328088/mandyoc/bin/mandyoc\n",
      "#MANDYOC_OPTIONS='-seed 0,2,12 -strain_seed 0.0,1.0,0.5'\n",
      "\n",
      "$PETSC_DIR/$PETSC_ARCH/bin/mpiexec -n 16 $MANDYOC #$MANDYOC_OPTIONS\n",
      "  \n"
     ]
    }
   ],
   "source": [
    "\n",
    "\n",
    "\n",
    "nucleos = 16\n",
    "\n",
    "run = '''#!/bin/bash -v\n",
    "#SBATCH --partition=SP2\n",
    "#SBATCH --job-name=mandyoc-{CEN}\t  # Job name\n",
    "#SBATCH --mail-type=BEGIN,END,FAIL    \t# Mail events (NONE, BEGIN, END, FAIL, ALL)\n",
    "#SBATCH --mail-user=jbueno@usp.br     \t# Where to send mail\n",
    "#SBATCH --nodes=1                       # Run all processes on a single node\n",
    "#SBATCH --ntasks={NUCLEOS}              # Run a single task\n",
    "#SBATCH --cpus-per-task=1               # Number of CPU cores per task\n",
    "#SBATCH --time=8-                       # DD-HH:MM:SS   # 16 horas; “2-” para 2 dias; máximo “8-”\n",
    "#SBATCH --output={CEN}_%j.log     # Standard output and error log\n",
    "\n",
    "#source /scratch/intel/oneapi/setvars.sh\n",
    "#source /scratch/intel/oneapi/mkl/2022.1.0/env/vars.sh\n",
    "\n",
    "echo $SLURM_JOB_ID \t\t\t# ID of job allocation\n",
    "echo $SLURM_SUBMIT_DIR \t\t\t# Directory job where was submitted\n",
    "echo $SLURM_JOB_NODELIST \t\t# File containing allocated hostnames\n",
    "echo $SLURM_NTASKS \t\t\t# Total number of cores for job\n",
    "\n",
    "\n",
    "\n",
    "module unload openmpi\n",
    "\n",
    "PETSC_DIR=/temporario2/10328088/petsc\n",
    "PETSC_ARCH=v3.15.5-optimized\n",
    "\n",
    "MANDYOC=/temporario2/10328088/mandyoc/bin/mandyoc\n",
    "#MANDYOC_OPTIONS='-seed 0,2,12 -strain_seed 0.0,1.0,0.5'\n",
    "\n",
    "${PETSC_DIR}/${PETSC_ARCH}/bin/mpiexec -n {NUCLEOS} ${MANDYOC} #${MANDYOC_OPTIONS}\n",
    "  '''.format(CEN=cen, PETSC_DIR='PETSC_DIR',PETSC_ARCH='PETSC_ARCH',MANDYOC='MANDYOC',MANDYOC_OPTIONS='MANDYOC_OPTIONS',NUCLEOS=nucleos)\n",
    "\n",
    "\n",
    "print(run)\n",
    "with open(\"run.sh\", \"w\") as f:\n",
    "  for line in run.split(\"\\n\"):\n",
    "      f.write(\" \".join(line.split()) + \"\\n\")"
   ]
  },
  {
   "cell_type": "code",
   "execution_count": 38,
   "id": "agBoDZmP9RpC",
   "metadata": {
    "id": "agBoDZmP9RpC"
   },
   "outputs": [],
   "source": [
    "#main_dir='/media/jobueno/STOV/cen_sys/300x1200-1kmv3'\n",
    "#os.system(f\"cp -r ../{tempdir}  {main_dir}/{cen}/\")"
   ]
  }
 ],
 "metadata": {
  "colab": {
   "provenance": []
  },
  "interpreter": {
   "hash": "56905383ab6bee97900b520fc05b0a83ba8cc65c7ebdf086939d724f25459375"
  },
  "kernelspec": {
   "display_name": "Python 3 (ipykernel)",
   "language": "python",
   "name": "python3"
  },
  "language_info": {
   "codemirror_mode": {
    "name": "ipython",
    "version": 3
   },
   "file_extension": ".py",
   "mimetype": "text/x-python",
   "name": "python",
   "nbconvert_exporter": "python",
   "pygments_lexer": "ipython3",
   "version": "3.13.2"
  }
 },
 "nbformat": 4,
 "nbformat_minor": 5
}
