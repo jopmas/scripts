{
 "cells": [
  {
   "cell_type": "code",
   "execution_count": null,
   "metadata": {},
   "outputs": [],
   "source": [
    "import os\n",
    "import sys\n",
    "import numpy as np\n",
    "import xarray as xr\n",
    "import matplotlib.pyplot as plt\n",
    "from typing import Type\n",
    "\n",
    "from collections import  "
   ]
  },
  {
   "cell_type": "code",
   "execution_count": null,
   "metadata": {},
   "outputs": [],
   "source": [
    "#CLASSES\n",
    "class MandyocModel:\n",
    "    def __init__(self, model_name, layers: list, Nx, Nz, Lx, Lz):\n",
    "        \"\"\"\"\n",
    "        This class creates a model with the given properties\n",
    "        model_name: str\n",
    "            Name of the model\n",
    "        layers: list \n",
    "            List containing MandyocLayer objects\n",
    "        Nx: int\n",
    "            Number of points in x direction\n",
    "        Nz: int\n",
    "            Number of points in z direction\n",
    "        Lx: float\n",
    "            Length of the model in x direction [m]\n",
    "        Lz: float\n",
    "            Length of the model in z direction [m]\n",
    "        \"\"\"\n",
    "\n",
    "        self.model_name = model_name\n",
    "        self.layers = layers\n",
    "        self.Nx = Nx\n",
    "        self.Nz = Nz\n",
    "        self.Lx = Lx\n",
    "        self.Lz = Lz\n",
    "\n",
    "        self.dx = Lx/Nx\n",
    "        self.dz = Lz/Nz\n",
    "\n",
    "        self.x = np.linspace(0, Lx, Nx)\n",
    "        self.z = np.linspace(Lz, 0, Nz)\n",
    "\n",
    "        self.X, self.Z = np.meshgrid(self.x, self.z)\n",
    "\n",
    "        for layer in layers:\n",
    "            setattr(self, layer.layer_label, layer)\n",
    "\n",
    "class MandyocLayer:\n",
    "    def __init__(self, layer_label, rheology: type,\n",
    "                 density, effective_viscosity_scale_factor=1.0, radiogenic_heat_production=0.0,\n",
    "                 base_depth=0.0e3, Nx=None):\n",
    "        \"\"\"\"\n",
    "        This class creates a layer with the given properties\n",
    "        layer_label: str\n",
    "            Name of the layer\n",
    "        rheology: class\n",
    "            Rheological properties of the layer onbtained from LithologicalUnit class\n",
    "        density: float\n",
    "            Density of the layer [kg/m3]\n",
    "        interface: NoneType or np.array\n",
    "            Interface of the layer.\n",
    "            If None, the interface will be setted after the creation of the Layer.\n",
    "            If np.array, the interface is defined by the given array.\n",
    "        effective_viscosity_scale_factor: float\n",
    "            Scale factor for the effective vistocisty\n",
    "        radiogenic_heat_production: float\n",
    "            Radiogenic heat production of the layer [W/kg]\n",
    "        base_depth: float\n",
    "            Depth of the layer base [m]\n",
    "        Nx: int\n",
    "            Number of points in x direction\n",
    "        \"\"\"\n",
    "\n",
    "        self.layer_label = layer_label\n",
    "        self.rheology = LithologicalUnit(rheology)\n",
    "        self.density = density\n",
    "        self.effective_viscosity_scale_factor = effective_viscosity_scale_factor\n",
    "        self.radiogenic_heat_production = radiogenic_heat_production\n",
    "        self.rheology_name = self.rheology.name\n",
    "        self.pre_exponential_constant = self.rheology.pre_exponential_constant\n",
    "        self.power_law_exponent = self.rheology.power_law_exponent\n",
    "        self.activation_energy = self.rheology.activation_energy\n",
    "        self.activation_volume = self.rheology.activation_volume\n",
    "        self.base_depth = base_depth\n",
    "        self.Nx = Nx\n",
    "\n",
    "        self.interface = np.ones(Nx)*base_depth\n",
    "\n",
    "class LithologicalUnit:\n",
    "    \"\"\"\"\n",
    "    This class calls the respective rheological properties of the given mineral\n",
    "\n",
    "    mineral_name: class\n",
    "        Mineral rheology written in CamelCase. For example, WetOlivine, DryOlivine, WetQuartz\n",
    "    \"\"\"\n",
    "    def __init__(self, mineral_name: type):\n",
    "        self.mineral_name = mineral_name() # mineral_name is a class, so we need to call it to get the object\n",
    "        self.name = self.mineral_name.name\n",
    "        self.pre_exponential_constant = self.mineral_name.pre_exponential_constant\n",
    "        self.power_law_exponent = self.mineral_name.power_law_exponent\n",
    "        self.activation_energy = self.mineral_name.activation_energy\n",
    "        self.activation_volume = self.mineral_name.activation_volume\n",
    "\n",
    "class WetOlivine:\n",
    "    \"\"\"\n",
    "    Wet olivine rheological properties\n",
    "    \"\"\"\n",
    "    def __init__(self):\n",
    "        self.name = 'wet_olivine'\n",
    "        self.pre_exponential_constant = 1.393e-14\n",
    "        self.power_law_exponent = 3\n",
    "        self.activation_energy = 429.0e3\n",
    "        self.activation_volume = 15.0e-6\n",
    "\n",
    "class DryOlivine:\n",
    "    \"\"\"\n",
    "    Dry olivine rheological properties\n",
    "    \"\"\"\n",
    "    def __init__(self):\n",
    "        self.name = 'dry_olivine'\n",
    "        self.pre_exponential_constant = 2.4168e-15\n",
    "        self.power_law_exponent = 3.5\n",
    "        self.activation_energy = 540.0e3\n",
    "        self.activation_volume = 25.0e-6\n",
    "\n",
    "class WetQuartz:\n",
    "    \"\"\"\n",
    "    Wet quartz rheological properties\n",
    "    \"\"\"\n",
    "    def __init__(self):\n",
    "        self.name = 'wet_quartz'\n",
    "        self.pre_exponential_constant = 8.574e-28\n",
    "        self.power_law_exponent = 4.0\n",
    "        self.activation_energy = 222.0e3\n",
    "        self.activation_volume = 0.0\n",
    "\n",
    "class Air:\n",
    "    \"\"\"\n",
    "    Air rheological properties\n",
    "    \"\"\"\n",
    "    def __init__(self):\n",
    "        self.name = 'air'\n",
    "        self.pre_exponential_constant = 1.0e-18\n",
    "        self.power_law_exponent = 1.0\n",
    "        self.activation_energy = 0.0\n",
    "        self.activation_volume = 0.0\n"
   ]
  },
  {
   "cell_type": "code",
   "execution_count": 14,
   "metadata": {},
   "outputs": [],
   "source": [
    "Nx = 1001\n",
    "Nz = 301\n",
    "Lx = 1000.0e3\n",
    "Lz = 300.0e3\n",
    "\n",
    "# x = np.linspace(0, Lx, Nx)\n",
    "# z = np.linspace(Lz, 0, Nz)\n",
    "\n",
    "# X, Z = np.meshgrid(x, z)\n",
    "\n",
    "# thickness of sticky air layer (m)\n",
    "thickness_air = 40 * 1.0e3\n",
    "# thickness of upper crust (m)\n",
    "thickness_upper_crust = 20 * 1.0e3\n",
    "# thickness of lower crust (m)\n",
    "thickness_lower_crust = 15 * 1.0e3\n",
    "# thickness of lithospheric mantle\n",
    "thickness_lithospheric_mantle = 45 * 1.0e3\n",
    "\n",
    "# total thickness of lithospheric mantle (m)\n",
    "thickness_litho = 80 * 1.0e3\n",
    "# thickness_litho = 120 * 1.0e3\n",
    "\n",
    "asthenosphere = MandyocLayer('asthenosphere', WetOlivine,\n",
    "                            density=3300.0,\n",
    "                            effective_viscosity_scale_factor=1.0,\n",
    "                            radiogenic_heat_production=7.38e-12)\n",
    "\n",
    "lithospheric_mantle = MandyocLayer('lithospheric_mantle', DryOlivine,\n",
    "                                    density=3354.0,\n",
    "                                    # interface=np.ones(Nx) * (thickness_litho + thickness_air),\n",
    "                                    effective_viscosity_scale_factor=1.0,\n",
    "                                    radiogenic_heat_production=9.0e-12,\n",
    "                                    base_depth=thickness_air+thickness_upper_crust+thickness_lower_crust+thickness_lithospheric_mantle,\n",
    "                                    Nx=Nx)\n",
    "\n",
    "lower_crust = MandyocLayer('lower_crust', WetQuartz,\n",
    "                            density=2800.0,\n",
    "                            # interface=np.ones(Nx) * (thickness_lower_crust + thickness_upper_crust + thickness_air),\n",
    "                            effective_viscosity_scale_factor=1.0,\n",
    "                            radiogenic_heat_production=2.86e-10,\n",
    "                            base_depth=thickness_air+thickness_upper_crust+thickness_lower_crust,\n",
    "                            Nx=Nx) #0.8e-6 / 2800.0)\n",
    "\n",
    "upper_crust = MandyocLayer('upper_crust', WetQuartz,\n",
    "                            density=2800.0,\n",
    "                            # interface=np.ones(Nx) * (thickness_upper_crust + thickness_air),\n",
    "                            effective_viscosity_scale_factor=1.0,\n",
    "                            radiogenic_heat_production=9.26e-10,\n",
    "                            base_depth=thickness_air+thickness_upper_crust,\n",
    "                            Nx=Nx)#2.5e-6 / 2700.0)\n",
    "\n",
    "air = MandyocLayer('air', Air,\n",
    "                    density=1.0,\n",
    "                    # interface=np.ones(Nx) * (thickness_air),\n",
    "                    effective_viscosity_scale_factor=1.0,\n",
    "                    radiogenic_heat_production=0.0,\n",
    "                    base_depth=thickness_air,\n",
    "                    Nx=Nx)\n",
    "\n",
    "layers = [asthenosphere, lithospheric_mantle, lower_crust, upper_crust, air]\n",
    "\n",
    "model = MandyocModel('rifting', layers, Nx, Nz, Lx, Lz)"
   ]
  },
  {
   "cell_type": "code",
   "execution_count": 23,
   "metadata": {},
   "outputs": [
    {
     "data": {
      "text/plain": [
       "1.0"
      ]
     },
     "execution_count": 23,
     "metadata": {},
     "output_type": "execute_result"
    }
   ],
   "source": [
    "model.asthenosphere.effective_viscosity_scale_factor"
   ]
  },
  {
   "cell_type": "code",
   "execution_count": null,
   "metadata": {},
   "outputs": [],
   "source": []
  },
  {
   "cell_type": "code",
   "execution_count": null,
   "metadata": {},
   "outputs": [],
   "source": []
  },
  {
   "cell_type": "code",
   "execution_count": 13,
   "metadata": {},
   "outputs": [
    {
     "data": {
      "text/plain": [
       "<__main__.LithologicalUnit at 0x1296fe340>"
      ]
     },
     "execution_count": 13,
     "metadata": {},
     "output_type": "execute_result"
    }
   ],
   "source": [
    "rho_lc = 2800 #lower crust density [kg/m3]\n",
    "C_lc = 1.0 #lower crust scaling factor\n",
    "H_lc = 2.5e-6 / 2700.0 #lower crust radiogenic heat production [W/kg]\n",
    "\n",
    "Nx = 1001\n",
    "thickness_lower_crust = 40.0\n",
    "lc_interface = np.ones(Nx) * thickness_lower_crust\n",
    "\n",
    "lower_crust = MandyocLayer(WetOlivine, rho_lc, lc_interface, C_lc, H_lc)\n"
   ]
  },
  {
   "cell_type": "code",
   "execution_count": 14,
   "metadata": {},
   "outputs": [],
   "source": [
    "asthenosphere.interface = 12"
   ]
  },
  {
   "cell_type": "code",
   "execution_count": 15,
   "metadata": {},
   "outputs": [
    {
     "data": {
      "text/plain": [
       "12"
      ]
     },
     "execution_count": 15,
     "metadata": {},
     "output_type": "execute_result"
    }
   ],
   "source": [
    "asthenosphere.interface"
   ]
  },
  {
   "cell_type": "code",
   "execution_count": 118,
   "metadata": {},
   "outputs": [
    {
     "data": {
      "text/plain": [
       "array([40., 40., 40., 40., 40., 40., 40., 40., 40., 40., 40.])"
      ]
     },
     "execution_count": 118,
     "metadata": {},
     "output_type": "execute_result"
    }
   ],
   "source": []
  },
  {
   "cell_type": "code",
   "execution_count": 105,
   "metadata": {},
   "outputs": [
    {
     "data": {
      "text/plain": [
       "8.574e-28"
      ]
     },
     "execution_count": 105,
     "metadata": {},
     "output_type": "execute_result"
    }
   ],
   "source": []
  },
  {
   "cell_type": "code",
   "execution_count": 80,
   "metadata": {},
   "outputs": [
    {
     "data": {
      "text/plain": [
       "_tuplegetter(0, 'Alias for field number 0')"
      ]
     },
     "execution_count": 80,
     "metadata": {},
     "output_type": "execute_result"
    }
   ],
   "source": []
  },
  {
   "cell_type": "code",
   "execution_count": 108,
   "metadata": {},
   "outputs": [
    {
     "name": "stdout",
     "output_type": "stream",
     "text": [
      "8.574e-28\n",
      "4.0\n"
     ]
    }
   ],
   "source": []
  },
  {
   "cell_type": "code",
   "execution_count": null,
   "metadata": {},
   "outputs": [],
   "source": []
  }
 ],
 "metadata": {
  "kernelspec": {
   "display_name": "mpy",
   "language": "python",
   "name": "python3"
  },
  "language_info": {
   "codemirror_mode": {
    "name": "ipython",
    "version": 3
   },
   "file_extension": ".py",
   "mimetype": "text/x-python",
   "name": "python",
   "nbconvert_exporter": "python",
   "pygments_lexer": "ipython3",
   "version": "3.9.20"
  }
 },
 "nbformat": 4,
 "nbformat_minor": 2
}
